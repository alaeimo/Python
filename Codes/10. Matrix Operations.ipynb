{
 "cells": [
  {
   "cell_type": "code",
   "execution_count": 2,
   "metadata": {},
   "outputs": [
    {
     "name": "stdout",
     "output_type": "stream",
     "text": [
      "[[1 2]\n",
      " [3 4]\n",
      " [5 6]]\n",
      "[[1 3 5]\n",
      " [2 4 6]]\n"
     ]
    }
   ],
   "source": [
    "# 11.2 Transpose\n",
    "from numpy import array\n",
    "'''A defined matrix can be transposed, which creates a new matrix with the number of columns\n",
    "and rows flipped.'''\n",
    "\n",
    "# define matrix\n",
    "A = array([[1,2],\n",
    "           [3,4],\n",
    "           [5,6]])\n",
    "print(A)\n",
    "\n",
    "# calculate transpose\n",
    "print(A.T)"
   ]
  },
  {
   "cell_type": "code",
   "execution_count": 5,
   "metadata": {},
   "outputs": [
    {
     "name": "stdout",
     "output_type": "stream",
     "text": [
      "[[1. 2.]\n",
      " [3. 4.]]\n",
      "[[-2.   1. ]\n",
      " [ 1.5 -0.5]]\n",
      "[[1.00000000e+00 1.11022302e-16]\n",
      " [0.00000000e+00 1.00000000e+00]]\n"
     ]
    }
   ],
   "source": [
    "# 11.3 Inverse\n",
    "'''Matrix inversion is a process that finds another matrix that when multiplied with the matrix,\n",
    "results in an identity matrix.'''\n",
    "'''A matrix is invertible if there exists another matrix that results in the identity matrix, where\n",
    "not all matrices are invertible. A square matrix that is not invertible is referred to as singular.'''\n",
    "\n",
    "# invert matrix\n",
    "from numpy import array\n",
    "from numpy.linalg import inv\n",
    "\n",
    "# define matrix\n",
    "A = array([[1.0,2.0],\n",
    "          [3.0,4.0]])\n",
    "print(A)\n",
    "\n",
    "# invert matrix\n",
    "B = inv(A)\n",
    "print(B)\n",
    "\n",
    "# multiply A and B\n",
    "I = A.dot(B)\n",
    "print(I)\n",
    "\n",
    "'''Matrix inversion is used as an operation in solving systems of\n",
    "equations framed as matrix equations where we are interested in finding vectors of unknowns.\n",
    "A good example is in finding the vector of coefficient values in linear regression.'''"
   ]
  },
  {
   "cell_type": "code",
   "execution_count": 9,
   "metadata": {},
   "outputs": [
    {
     "name": "stdout",
     "output_type": "stream",
     "text": [
      "[[1 2 3]\n",
      " [4 5 6]\n",
      " [7 8 9]]\n",
      "15 1+5+9\n"
     ]
    }
   ],
   "source": [
    "# 11.4 Trace\n",
    "'''A trace of a square matrix is the sum of the values on the main diagonal of the matrix (top-left\n",
    "to bottom-right).'''\n",
    "\n",
    "# matrix trace\n",
    "from numpy import array\n",
    "from numpy import trace\n",
    "\n",
    "# define matrix\n",
    "A = array([[1,2,3],\n",
    "          [4,5,6],\n",
    "          [7,8,9]])\n",
    "print(A)\n",
    "\n",
    "# calculate trace\n",
    "B = trace(A)\n",
    "print(B, '1+5+9')\n",
    "\n",
    "'''Alone, the trace operation is not interesting, but it offers a simpler notation and it is used\n",
    "as an element in other key matrix operations.'''"
   ]
  },
  {
   "cell_type": "code",
   "execution_count": 39,
   "metadata": {},
   "outputs": [
    {
     "name": "stdout",
     "output_type": "stream",
     "text": [
      "[[1 2 3]\n",
      " [4 5 6]\n",
      " [7 8 9]]\n",
      "6.66133814775094e-16\n",
      "0\n"
     ]
    }
   ],
   "source": [
    "# 11.5 Determinant\n",
    "'''The determinant of a square matrix is a scalar representation of the volume of the matrix'''\n",
    "\n",
    "# metrix determinant\n",
    "from numpy import array\n",
    "from numpy.linalg import det\n",
    "\n",
    "# define matrix\n",
    "A = array([\n",
    "    [1,2,3],\n",
    "    [4,5,6],\n",
    "    [7,8,9]])\n",
    "print(A)\n",
    "\n",
    "# calculate the determinant\n",
    "B = det(A)\n",
    "print(B)\n",
    "print(1*(5*9-6*8)-2*(4*9-6*7)+3*(4*8-5*7))\n",
    "#symbolab.com/solver/matrix-determinant-calculator/%5Cdet%20%5Cbegin%7Bpmatrix%7D1%20%26%202%20%26%203%20%5C%5C4%20%26%205%20%26%206%20%5C%5C7%20%26%208%20%26%209%5Cend%7Bpmatrix%7D?or=ex"
   ]
  },
  {
   "cell_type": "code",
   "execution_count": 44,
   "metadata": {},
   "outputs": [
    {
     "name": "stdout",
     "output_type": "stream",
     "text": [
      "[1 2 3]\n",
      "1\n",
      "[0 0 0 0 0]\n",
      "0\n"
     ]
    }
   ],
   "source": [
    "# 11.6 Rank\n",
    "'''The rank of a matrix is the estimate of the number of linearly independent rows or columns in\n",
    "a matrix. The rank of a matrix M is often denoted as the function rank().'''\n",
    "# vector rank\n",
    "from numpy import array\n",
    "from numpy.linalg import matrix_rank\n",
    "\n",
    "# rank\n",
    "v1 = array([1,2,3])\n",
    "print(v1)\n",
    "\n",
    "vr1 = matrix_rank(v1)\n",
    "print(vr1)\n",
    "\n",
    "# zero rank\n",
    "v2 = array([0,0,0,0,0])\n",
    "print(v2)\n",
    "\n",
    "vr2 = matrix_rank(v2)\n",
    "print(vr2)"
   ]
  },
  {
   "cell_type": "code",
   "execution_count": 48,
   "metadata": {},
   "outputs": [
    {
     "name": "stdout",
     "output_type": "stream",
     "text": [
      "[[0 0]\n",
      " [0 0]]\n",
      "0\n",
      "1\n",
      "2\n"
     ]
    }
   ],
   "source": [
    "# matrix rank\n",
    "from numpy import array\n",
    "from numpy.linalg import matrix_rank\n",
    "\n",
    "# rank 0\n",
    "M0 = array([[0,0],\n",
    "           [0,0]])\n",
    "print(M0)\n",
    "mr0 = matrix_rank(M0)\n",
    "print(mr0)\n",
    "\n",
    "# rank 1\n",
    "M1 = array([[1,2],\n",
    "           [1,2]])\n",
    "mr1 = matrix_rank(M1)\n",
    "print(mr1)\n",
    "\n",
    "# rank 2\n",
    "M2 = array([[1,2],\n",
    "           [3,4]])\n",
    "mr2 = matrix_rank(M2)\n",
    "print(mr2)\n",
    "# https://i.stack.imgur.com/ZsnTY.png"
   ]
  },
  {
   "cell_type": "code",
   "execution_count": 95,
   "metadata": {},
   "outputs": [
    {
     "name": "stdout",
     "output_type": "stream",
     "text": [
      "[[ 2  4  6]\n",
      " [ 8 10 12]\n",
      " [14 16 18]\n",
      " [20 22 24]]\n",
      "[[ 2  8 14 20]\n",
      " [ 4 10 16 22]\n",
      " [ 6 12 18 24]] \n",
      "\n",
      "[[2.1 3.1]\n",
      " [4.1 5.1]]\n",
      "[[-2.55  1.55]\n",
      " [ 2.05 -1.05]]\n",
      "[[1.0000000e+00 4.4408921e-16]\n",
      " [0.0000000e+00 1.0000000e+00]] \n",
      "\n",
      "1090\n",
      "1090\n",
      "21924.999999999985 \n",
      "\n",
      "[33 66 99]\n",
      "1\n",
      "[0 0 0 0]\n",
      "0\n",
      "[[0 0]\n",
      " [0 0]]\n",
      "0\n",
      "1\n",
      "2\n"
     ]
    }
   ],
   "source": [
    "'''11.7 Extensions\n",
    "This section lists some ideas for extending the tutorial that you may wish to explore.\n",
    " Modify each example using your own small contrived array data.\n",
    " Write your own functions to implement one operation.\n",
    " Research one example where each operation was used in machine learning.'''\n",
    "\n",
    "from numpy import array\n",
    "from numpy.linalg import inv\n",
    "from numpy import trace\n",
    "from numpy.linalg import det\n",
    "from numpy.linalg import matrix_rank\n",
    "\n",
    "# transpose\n",
    "A = array([[2,4,6],\n",
    "          [8,10,12],\n",
    "          [14,16,18],\n",
    "          [20,22,24]])\n",
    "print(A)\n",
    "print(A.T, '\\n')\n",
    "\n",
    "# inverse\n",
    "A = array([[2.1,3.1],\n",
    "          [4.1,5.1]])\n",
    "print(A)\n",
    "\n",
    "B = inv(A)\n",
    "print(B)\n",
    "\n",
    "I = A.dot(B)\n",
    "print(I,'\\n')\n",
    "\n",
    "# trace\n",
    "A = array([[2,4,16],\n",
    "          [32,64,128],\n",
    "          [256,512,1024]])\n",
    "B = trace(A)\n",
    "print(B)\n",
    "print(2+64+1024)\n",
    "\n",
    "# determinant\n",
    "A = array([[1,450,3],\n",
    "         [1,1,1],\n",
    "         [50,12,1]])\n",
    "B = det(A)\n",
    "print(B,'\\n')\n",
    "\n",
    "# vector rank\n",
    "v1 =  array([33,66,99])\n",
    "print(v1)\n",
    "\n",
    "vr1 = matrix_rank(v1)\n",
    "print(vr1)\n",
    "\n",
    "v2 = array([0,0,0,0])\n",
    "print(v2)\n",
    "\n",
    "vr2 = matrix_rank(v2)\n",
    "print(vr2)\n",
    "\n",
    "# metrix rank\n",
    "# rank 0\n",
    "M0 = array([[0,0],\n",
    "           [0,0]])\n",
    "print(M0)\n",
    "\n",
    "# rank 1\n",
    "mr0 = matrix_rank(M0)\n",
    "print(mr0)\n",
    "\n",
    "M1 = array([[33,66],\n",
    "           [33,66]])\n",
    "mr1 = matrix_rank(M1)\n",
    "print(mr1)\n",
    "\n",
    "# rank 2\n",
    "M2 = array([[4,5],\n",
    "          [6,7]])\n",
    "mr2 = matrix_rank(M2)\n",
    "print(mr2)"
   ]
  },
  {
   "cell_type": "code",
   "execution_count": null,
   "metadata": {},
   "outputs": [],
   "source": [
    "#  Research one example where each operation was used in machine learning.'''\n",
    "# https://www.quora.com/Why-do-we-transpose-matrices-in-machine-learning\n",
    "'''You’ll see a lot of matrix transpositions in neural networks and deep learning. \n",
    "These ML models are nothing but a series of linear transformation of matrices \n",
    "(leave aside non-linear activation at the moment). Thus, you’ll need to match \n",
    "the matrix dimensions for computation, and that’s really the only reason you transpose matrices.'''"
   ]
  }
 ],
 "metadata": {
  "kernelspec": {
   "display_name": "Python 3 (ipykernel)",
   "language": "python",
   "name": "python3"
  },
  "language_info": {
   "codemirror_mode": {
    "name": "ipython",
    "version": 3
   },
   "file_extension": ".py",
   "mimetype": "text/x-python",
   "name": "python",
   "nbconvert_exporter": "python",
   "pygments_lexer": "ipython3",
   "version": "3.10.9"
  }
 },
 "nbformat": 4,
 "nbformat_minor": 2
}
