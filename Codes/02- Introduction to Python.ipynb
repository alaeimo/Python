{
 "cells": [
  {
   "cell_type": "markdown",
   "id": "b3b6b2ba",
   "metadata": {},
   "source": [
    "### 1. The First Program "
   ]
  },
  {
   "cell_type": "code",
   "execution_count": 1,
   "id": "54e2df1d",
   "metadata": {},
   "outputs": [
    {
     "data": {
      "text/plain": [
       "'Hello, World!'"
      ]
     },
     "execution_count": 1,
     "metadata": {},
     "output_type": "execute_result"
    }
   ],
   "source": [
    "\"Hello, World!\""
   ]
  },
  {
   "cell_type": "markdown",
   "id": "8d6aaa66",
   "metadata": {},
   "source": [
    "### 2. Arithmetic Operators"
   ]
  },
  {
   "cell_type": "markdown",
   "id": "e2f7d233",
   "metadata": {},
   "source": [
    "<img src=\"imgs/python-arithmetic-operators.jpg\">"
   ]
  },
  {
   "cell_type": "code",
   "execution_count": 2,
   "id": "0a0fc4ca",
   "metadata": {},
   "outputs": [
    {
     "name": "stdout",
     "output_type": "stream",
     "text": [
      "15+8 =  23\n",
      "15-8 =  7\n",
      "15*8 =  120\n",
      "15**8 =  2562890625\n",
      "15/8 =  1.875\n",
      "15//8 =  1\n",
      "15%8 =  7\n"
     ]
    }
   ],
   "source": [
    "print(\"15+8 = \", 15+8)\n",
    "print(\"15-8 = \", 15-8)\n",
    "print(\"15*8 = \", 15*8)\n",
    "print(\"15**8 = \", 15**8)\n",
    "print(\"15/8 = \", 15/8)\n",
    "print(\"15//8 = \", 15//8)\n",
    "print(\"15%8 = \", 15%8)"
   ]
  },
  {
   "cell_type": "markdown",
   "id": "dc5eef58",
   "metadata": {},
   "source": [
    "#### 2.1. Order of operations \n",
    "\n",
    "##### PEMDAS:\n",
    "- Parentheses\n",
    "- Exponentiation\n",
    "- Multiplication\n",
    "- Division\n",
    "- Addition \n",
    "- Subtraction"
   ]
  },
  {
   "cell_type": "code",
   "execution_count": 3,
   "id": "0ecd4339",
   "metadata": {},
   "outputs": [
    {
     "data": {
      "text/plain": [
       "7.0"
      ]
     },
     "execution_count": 3,
     "metadata": {},
     "output_type": "execute_result"
    }
   ],
   "source": [
    "3 * (16-8)/2**3 + 4"
   ]
  },
  {
   "cell_type": "markdown",
   "id": "f89e89b4",
   "metadata": {},
   "source": [
    "### 3. Data Types"
   ]
  },
  {
   "cell_type": "markdown",
   "id": "5d5e096c",
   "metadata": {},
   "source": [
    "#### 3.1. Getting the Data Type\n",
    "You can get the data type of any object by using the type() function:"
   ]
  },
  {
   "cell_type": "code",
   "execution_count": 4,
   "id": "ff9c6cc6",
   "metadata": {},
   "outputs": [
    {
     "name": "stdout",
     "output_type": "stream",
     "text": [
      "<class 'str'>\n"
     ]
    }
   ],
   "source": [
    "print(type(\"Hello\"))"
   ]
  },
  {
   "cell_type": "code",
   "execution_count": 5,
   "id": "46eca30c",
   "metadata": {},
   "outputs": [
    {
     "name": "stdout",
     "output_type": "stream",
     "text": [
      "<class 'int'>\n"
     ]
    }
   ],
   "source": [
    "print(type(3))"
   ]
  },
  {
   "cell_type": "code",
   "execution_count": 6,
   "id": "6282bf1f",
   "metadata": {},
   "outputs": [
    {
     "name": "stdout",
     "output_type": "stream",
     "text": [
      "<class 'float'>\n"
     ]
    }
   ],
   "source": [
    "print(type(3.1415))"
   ]
  },
  {
   "cell_type": "code",
   "execution_count": 7,
   "id": "5f234a0d",
   "metadata": {},
   "outputs": [
    {
     "name": "stdout",
     "output_type": "stream",
     "text": [
      "<class 'bool'>\n"
     ]
    }
   ],
   "source": [
    "print(type(True))"
   ]
  },
  {
   "cell_type": "code",
   "execution_count": 8,
   "id": "75ee213b",
   "metadata": {},
   "outputs": [
    {
     "name": "stdout",
     "output_type": "stream",
     "text": [
      "<class 'complex'>\n"
     ]
    }
   ],
   "source": [
    "print(type(5+3j))"
   ]
  },
  {
   "cell_type": "markdown",
   "id": "47f84b1e",
   "metadata": {},
   "source": [
    "#### 3.2. Casting"
   ]
  },
  {
   "cell_type": "code",
   "execution_count": 9,
   "id": "035f9d13",
   "metadata": {},
   "outputs": [
    {
     "name": "stdout",
     "output_type": "stream",
     "text": [
      "3\n"
     ]
    }
   ],
   "source": [
    "print(int(3.1415))"
   ]
  },
  {
   "cell_type": "code",
   "execution_count": 10,
   "id": "9eb8a41e",
   "metadata": {},
   "outputs": [
    {
     "name": "stdout",
     "output_type": "stream",
     "text": [
      "255.0\n"
     ]
    }
   ],
   "source": [
    "print(float(255))"
   ]
  },
  {
   "cell_type": "code",
   "execution_count": 11,
   "id": "1779d06f",
   "metadata": {},
   "outputs": [
    {
     "name": "stdout",
     "output_type": "stream",
     "text": [
      "256\n"
     ]
    }
   ],
   "source": [
    "print(str(256))"
   ]
  },
  {
   "cell_type": "code",
   "execution_count": 12,
   "id": "7ccf0f1c",
   "metadata": {},
   "outputs": [
    {
     "name": "stdout",
     "output_type": "stream",
     "text": [
      "False True\n"
     ]
    }
   ],
   "source": [
    "print(bool(0), bool(1))"
   ]
  },
  {
   "cell_type": "markdown",
   "id": "4cbaf18d",
   "metadata": {},
   "source": [
    "### 4.Variables"
   ]
  },
  {
   "cell_type": "markdown",
   "id": "a863c65d",
   "metadata": {},
   "source": [
    "#### 4.1. Defining a variable name\n",
    "Officially, variable names in Python can be any length and can consist of uppercase and lowercase letters ( A-Z , a-z ), digits ( 0-9 ), and the underscore character ( _ )"
   ]
  },
  {
   "cell_type": "code",
   "execution_count": 13,
   "id": "ac82260c",
   "metadata": {},
   "outputs": [],
   "source": [
    "x1 = 15\n",
    "speed_of_light = 299_792_458\n",
    "pi = 3.1415\n",
    "message = \"This is a message!\""
   ]
  },
  {
   "cell_type": "code",
   "execution_count": 14,
   "id": "bbbe59a0",
   "metadata": {},
   "outputs": [
    {
     "data": {
      "text/plain": [
       "int"
      ]
     },
     "execution_count": 14,
     "metadata": {},
     "output_type": "execute_result"
    }
   ],
   "source": [
    "type(speed_of_light)"
   ]
  },
  {
   "cell_type": "code",
   "execution_count": 15,
   "id": "eb565386",
   "metadata": {},
   "outputs": [
    {
     "ename": "SyntaxError",
     "evalue": "invalid syntax (3265813563.py, line 1)",
     "output_type": "error",
     "traceback": [
      "\u001b[1;36m  Cell \u001b[1;32mIn[15], line 1\u001b[1;36m\u001b[0m\n\u001b[1;33m    x@\u001b[0m\n\u001b[1;37m      ^\u001b[0m\n\u001b[1;31mSyntaxError\u001b[0m\u001b[1;31m:\u001b[0m invalid syntax\n"
     ]
    }
   ],
   "source": [
    "x@\n",
    "x."
   ]
  },
  {
   "cell_type": "markdown",
   "id": "0355642f",
   "metadata": {},
   "source": [
    "#### Quiz"
   ]
  },
  {
   "cell_type": "code",
   "execution_count": 16,
   "id": "4363cdc1",
   "metadata": {},
   "outputs": [
    {
     "data": {
      "text/plain": [
       "1.0"
      ]
     },
     "execution_count": 16,
     "metadata": {},
     "output_type": "execute_result"
    }
   ],
   "source": [
    "x = 1.\n",
    "x"
   ]
  },
  {
   "cell_type": "code",
   "execution_count": 17,
   "id": "72e1960c",
   "metadata": {},
   "outputs": [
    {
     "name": "stdout",
     "output_type": "stream",
     "text": [
      "1 1 1\n"
     ]
    }
   ],
   "source": [
    "x = y = z = 1\n",
    "print(x,y,z)"
   ]
  },
  {
   "cell_type": "code",
   "execution_count": 18,
   "id": "25109b3e",
   "metadata": {},
   "outputs": [
    {
     "data": {
      "text/plain": [
       "(3, 4)"
      ]
     },
     "execution_count": 18,
     "metadata": {},
     "output_type": "execute_result"
    }
   ],
   "source": [
    "a, b = 3, 4\n",
    "a,b"
   ]
  },
  {
   "cell_type": "code",
   "execution_count": 40,
   "id": "4cc74603",
   "metadata": {},
   "outputs": [
    {
     "data": {
      "text/plain": [
       "(4, 3)"
      ]
     },
     "execution_count": 40,
     "metadata": {},
     "output_type": "execute_result"
    }
   ],
   "source": [
    "# Swap Two Variables\n",
    "# temp = a\n",
    "# a = b\n",
    "# b = temp\n",
    "# a,b \n",
    "\n",
    "a, b = b, a\n",
    "a,b"
   ]
  },
  {
   "cell_type": "code",
   "execution_count": 21,
   "id": "11e7074c",
   "metadata": {},
   "outputs": [
    {
     "name": "stdout",
     "output_type": "stream",
     "text": [
      "2 5\n"
     ]
    }
   ],
   "source": [
    "x = x + 1 # x+=1\n",
    "y = y * 5 # y*=5\n",
    "print(x,y)"
   ]
  },
  {
   "cell_type": "code",
   "execution_count": 22,
   "id": "e62bac6b",
   "metadata": {},
   "outputs": [],
   "source": [
    "is_active = True\n",
    "response = None"
   ]
  },
  {
   "cell_type": "code",
   "execution_count": 33,
   "id": "0843ecfb",
   "metadata": {},
   "outputs": [
    {
     "data": {
      "text/plain": [
       "-inf"
      ]
     },
     "execution_count": 33,
     "metadata": {},
     "output_type": "execute_result"
    }
   ],
   "source": [
    "float('inf') # positive infinity\n",
    "float('-inf') # negative infinity"
   ]
  },
  {
   "cell_type": "code",
   "execution_count": 27,
   "id": "570fe978",
   "metadata": {},
   "outputs": [
    {
     "data": {
      "text/plain": [
       "nan"
      ]
     },
     "execution_count": 27,
     "metadata": {},
     "output_type": "execute_result"
    }
   ],
   "source": [
    "float('nan') #not a number"
   ]
  },
  {
   "cell_type": "code",
   "execution_count": 34,
   "id": "61acf15b",
   "metadata": {},
   "outputs": [],
   "source": [
    "# comment"
   ]
  },
  {
   "cell_type": "markdown",
   "id": "3c27de35",
   "metadata": {},
   "source": [
    "#### 4.2.Python3 keywords\n",
    "<img src=\"imgs/python-keywords.jpg\" > "
   ]
  },
  {
   "cell_type": "markdown",
   "id": "b989a208",
   "metadata": {},
   "source": [
    "### 5. String"
   ]
  },
  {
   "cell_type": "code",
   "execution_count": 35,
   "id": "e9f84570",
   "metadata": {},
   "outputs": [],
   "source": [
    "text1 = \"Hello\"  #\n",
    "text2 = 'World'  #"
   ]
  },
  {
   "cell_type": "code",
   "execution_count": 36,
   "id": "ed0232a4",
   "metadata": {},
   "outputs": [
    {
     "name": "stdout",
     "output_type": "stream",
     "text": [
      "HelloWorld\n"
     ]
    }
   ],
   "source": [
    "print(text1 + text2)  #"
   ]
  },
  {
   "cell_type": "code",
   "execution_count": 37,
   "id": "f737d267",
   "metadata": {},
   "outputs": [
    {
     "name": "stdout",
     "output_type": "stream",
     "text": [
      "HelloWorld!\n"
     ]
    }
   ],
   "source": [
    "print(text1 + text2 + \"!\")  #"
   ]
  },
  {
   "cell_type": "code",
   "execution_count": 38,
   "id": "4925c652",
   "metadata": {},
   "outputs": [
    {
     "name": "stdout",
     "output_type": "stream",
     "text": [
      "HelloHelloHello\n"
     ]
    }
   ],
   "source": [
    "print(text1 * 3)  #"
   ]
  },
  {
   "cell_type": "code",
   "execution_count": 39,
   "id": "4a1d4856",
   "metadata": {},
   "outputs": [
    {
     "data": {
      "text/plain": [
       "5"
      ]
     },
     "execution_count": 39,
     "metadata": {},
     "output_type": "execute_result"
    }
   ],
   "source": [
    "len(text1)"
   ]
  },
  {
   "cell_type": "code",
   "execution_count": null,
   "id": "577fe75f",
   "metadata": {},
   "outputs": [],
   "source": [
    "name = 'Max'\n",
    "age = 18\n",
    "\n",
    "print(f\"Hello, My name is \" + name + \" and I'm \" + str(age) + \" years old.\")\n",
    "print(f\"Hello, My name is {name} and I'm {age} years old.\")  #f string"
   ]
  },
  {
   "cell_type": "code",
   "execution_count": null,
   "id": "9aa79752",
   "metadata": {},
   "outputs": [],
   "source": [
    "print(\"\"\"\\\n",
    "Usage:app.py [OPTIONS]\n",
    "     -h      help\n",
    "     -M      Menu  \n",
    "\"\"\")"
   ]
  },
  {
   "cell_type": "markdown",
   "id": "ab07a0f2",
   "metadata": {},
   "source": [
    "#### 5.1.Indexing Strings"
   ]
  },
  {
   "cell_type": "code",
   "execution_count": null,
   "id": "1c9aa47c",
   "metadata": {},
   "outputs": [],
   "source": [
    "message = \"Python Programming Language\"\n",
    "message[0]"
   ]
  },
  {
   "cell_type": "code",
   "execution_count": null,
   "id": "a5a1d746",
   "metadata": {},
   "outputs": [],
   "source": [
    "message[len(message)]"
   ]
  },
  {
   "cell_type": "code",
   "execution_count": null,
   "id": "5002783d",
   "metadata": {},
   "outputs": [],
   "source": [
    "message[len(message) - 1]"
   ]
  },
  {
   "cell_type": "markdown",
   "id": "b9daf04b",
   "metadata": {},
   "source": [
    "#### 5.2. Reverse Indexing"
   ]
  },
  {
   "cell_type": "code",
   "execution_count": null,
   "id": "95082917",
   "metadata": {},
   "outputs": [],
   "source": [
    "message[-1]"
   ]
  },
  {
   "cell_type": "code",
   "execution_count": null,
   "id": "9432df03",
   "metadata": {},
   "outputs": [],
   "source": [
    "message[-2]"
   ]
  },
  {
   "cell_type": "code",
   "execution_count": null,
   "id": "2defba88",
   "metadata": {},
   "outputs": [],
   "source": [
    "message[:6]"
   ]
  },
  {
   "cell_type": "code",
   "execution_count": null,
   "id": "cd46465e",
   "metadata": {},
   "outputs": [],
   "source": [
    "message[-8:]"
   ]
  },
  {
   "cell_type": "code",
   "execution_count": null,
   "id": "7a5958f5",
   "metadata": {},
   "outputs": [],
   "source": [
    "# Strings are immutable\n",
    "message[0] = \"J\""
   ]
  },
  {
   "cell_type": "markdown",
   "id": "4da5a9bc",
   "metadata": {},
   "source": [
    "### 6. Getting Help"
   ]
  },
  {
   "cell_type": "code",
   "execution_count": null,
   "id": "9b0aca27",
   "metadata": {},
   "outputs": [],
   "source": [
    "type(message)"
   ]
  },
  {
   "cell_type": "code",
   "execution_count": null,
   "id": "b81bfc65",
   "metadata": {},
   "outputs": [],
   "source": [
    "dir(str)"
   ]
  },
  {
   "cell_type": "code",
   "execution_count": null,
   "id": "59140ff9",
   "metadata": {},
   "outputs": [],
   "source": [
    "help(message.split)"
   ]
  },
  {
   "cell_type": "code",
   "execution_count": null,
   "id": "91b0a4ac",
   "metadata": {},
   "outputs": [],
   "source": [
    "message.split(\" \")"
   ]
  },
  {
   "cell_type": "code",
   "execution_count": null,
   "id": "6da336e5",
   "metadata": {},
   "outputs": [],
   "source": [
    "message.find('L')"
   ]
  },
  {
   "cell_type": "code",
   "execution_count": null,
   "id": "d88067ca",
   "metadata": {},
   "outputs": [],
   "source": [
    "message.index(\"Lang\")"
   ]
  },
  {
   "cell_type": "code",
   "execution_count": null,
   "id": "760b2c26",
   "metadata": {},
   "outputs": [],
   "source": [
    "message.upper()"
   ]
  },
  {
   "cell_type": "code",
   "execution_count": null,
   "id": "0f3eb0df",
   "metadata": {},
   "outputs": [],
   "source": [
    "message.lower()"
   ]
  },
  {
   "cell_type": "code",
   "execution_count": null,
   "id": "09790b47",
   "metadata": {},
   "outputs": [],
   "source": [
    "text = \"1\"\n",
    "text.isdigit()"
   ]
  },
  {
   "cell_type": "markdown",
   "id": "672cd583",
   "metadata": {},
   "source": [
    "### 7.Decision Making"
   ]
  },
  {
   "cell_type": "markdown",
   "id": "9426e91e",
   "metadata": {},
   "source": [
    "#### 7.1 if ... else Statement"
   ]
  },
  {
   "cell_type": "code",
   "execution_count": null,
   "id": "a7984dc0",
   "metadata": {},
   "outputs": [],
   "source": [
    "age = 15\n",
    "\n",
    "if age < 18:\n",
    "    print(\"Child\") #use tab or 4 space's\n",
    "else:\n",
    "    print(\"Adult\")"
   ]
  },
  {
   "cell_type": "code",
   "execution_count": null,
   "id": "0d160dfe",
   "metadata": {},
   "outputs": [],
   "source": [
    "age = 45\n",
    "\n",
    "if age < 18:\n",
    "    print(\"Child\")\n",
    "elif 18 <= age <= 30:\n",
    "    print(\"Young Adult\")\n",
    "elif 30 < age <= 45:\n",
    "    print(\"Middle-aged Adult\")\n",
    "else:\n",
    "    print(\"Elderly\")"
   ]
  },
  {
   "cell_type": "code",
   "execution_count": null,
   "id": "95f4e7b7",
   "metadata": {},
   "outputs": [],
   "source": [
    "is_active = True\n",
    "\n",
    "if is_active:\n",
    "    print(\"Acive\")"
   ]
  },
  {
   "cell_type": "code",
   "execution_count": null,
   "id": "e9861d22",
   "metadata": {},
   "outputs": [],
   "source": [
    "message = None\n",
    "\n",
    "if message: print(message)"
   ]
  },
  {
   "cell_type": "code",
   "execution_count": null,
   "id": "746237fe",
   "metadata": {},
   "outputs": [],
   "source": [
    "text = \"Hello World\"\n",
    "\n",
    "if \"Hello\" in text.split():\n",
    "    print(True)"
   ]
  },
  {
   "cell_type": "markdown",
   "id": "9d304954",
   "metadata": {},
   "source": [
    "#### 7.2 match statement"
   ]
  },
  {
   "cell_type": "code",
   "execution_count": null,
   "id": "fe19d353",
   "metadata": {},
   "outputs": [],
   "source": [
    "status = 404\n",
    "\n",
    "match status:\n",
    "    case 400:\n",
    "        print(\"Bad request\")\n",
    "    case 404:\n",
    "        print(\"Not found\") \n",
    "    case 418:\n",
    "        print(\"I'm a teapot\") \n",
    "    case _:\n",
    "        print(\"Something's wrong with the internet\") "
   ]
  },
  {
   "cell_type": "markdown",
   "id": "9b3ca1bf",
   "metadata": {},
   "source": [
    "### 8. Loops"
   ]
  },
  {
   "cell_type": "markdown",
   "id": "fec70806",
   "metadata": {},
   "source": [
    "#### 8.1. for loop"
   ]
  },
  {
   "cell_type": "code",
   "execution_count": null,
   "id": "99501377",
   "metadata": {},
   "outputs": [],
   "source": [
    "for letter in 'Python':\n",
    "    print('Current Letter :', letter)"
   ]
  },
  {
   "cell_type": "markdown",
   "id": "b48aaceb",
   "metadata": {},
   "source": [
    "#### 8.2. range()"
   ]
  },
  {
   "cell_type": "code",
   "execution_count": null,
   "id": "1e3c6bcf",
   "metadata": {},
   "outputs": [],
   "source": [
    "help(range)"
   ]
  },
  {
   "cell_type": "code",
   "execution_count": null,
   "id": "b0c2ec6c",
   "metadata": {},
   "outputs": [],
   "source": [
    "for num in range(0, 5):\n",
    "    print(\"Current Number: \", num)"
   ]
  },
  {
   "cell_type": "code",
   "execution_count": null,
   "id": "992388da",
   "metadata": {},
   "outputs": [],
   "source": [
    "for num in range(0, 5, 2):\n",
    "    print(\"Current Number: \", num)"
   ]
  },
  {
   "cell_type": "code",
   "execution_count": null,
   "id": "23f7f752",
   "metadata": {},
   "outputs": [],
   "source": [
    "quote = \"You cannot escape the responsibility of tomorrow by evading it today.\"\n",
    "for i in range(len(quote)):\n",
    "    letter = quote[i]\n",
    "    print(letter, end=\"\")"
   ]
  },
  {
   "cell_type": "markdown",
   "id": "c652a2f3",
   "metadata": {},
   "source": [
    "#### Quiz"
   ]
  },
  {
   "cell_type": "code",
   "execution_count": null,
   "id": "3a3c4fe4",
   "metadata": {},
   "outputs": [],
   "source": [
    "for x in range(0.5, 5.5, 0.5):\n",
    "    print(x)"
   ]
  },
  {
   "cell_type": "markdown",
   "id": "f654f598",
   "metadata": {},
   "source": [
    "#### 8.3. break"
   ]
  },
  {
   "cell_type": "code",
   "execution_count": null,
   "id": "7bb23b37",
   "metadata": {},
   "outputs": [],
   "source": [
    "for i in range(len(quote)):\n",
    "    letter = quote[i]\n",
    "    if letter == \"s\": \n",
    "        break\n",
    "    print(letter, end=\"\")"
   ]
  },
  {
   "cell_type": "markdown",
   "id": "80d800d2",
   "metadata": {},
   "source": [
    "#### 8.4. Using else Statement with for Loop"
   ]
  },
  {
   "cell_type": "code",
   "execution_count": null,
   "id": "4d75ecd2",
   "metadata": {},
   "outputs": [],
   "source": [
    "container = [\"header\", \"title\", \"body\",\"footer\"]\n",
    "\n",
    "for item in container:\n",
    "    if item == \"subject\":\n",
    "        print(\"Found it!\")\n",
    "        break\n",
    "else:\n",
    "    print(\"Didn't find anything..\")"
   ]
  },
  {
   "cell_type": "markdown",
   "id": "ea82f00b",
   "metadata": {},
   "source": [
    "#### 8.5. while loop"
   ]
  },
  {
   "cell_type": "code",
   "execution_count": null,
   "id": "0a8a433d",
   "metadata": {},
   "outputs": [],
   "source": [
    "count = 0\n",
    "while count < 9:\n",
    "    print(\"The count is:\", count)\n",
    "    count = count + 1"
   ]
  },
  {
   "cell_type": "markdown",
   "id": "2e5c8a03",
   "metadata": {},
   "source": [
    "#### 8.6. nested loops"
   ]
  },
  {
   "cell_type": "code",
   "execution_count": null,
   "id": "26372610",
   "metadata": {},
   "outputs": [],
   "source": [
    "for i in range(5):\n",
    "    for j in range(2):\n",
    "        print(i,j, i*j)"
   ]
  },
  {
   "cell_type": "markdown",
   "id": "7c5505ae",
   "metadata": {},
   "source": [
    "#### 8.7. enumerate()"
   ]
  },
  {
   "cell_type": "code",
   "execution_count": null,
   "id": "2ee7aa18",
   "metadata": {},
   "outputs": [],
   "source": [
    "text = \"Python\"\n",
    "for idx, letter in enumerate(text):\n",
    "    print(idx, letter)"
   ]
  },
  {
   "cell_type": "markdown",
   "id": "00656469",
   "metadata": {},
   "source": [
    "#### Quiz:\n",
    "Write a script to return the count of \"Emma\" from a text:\n"
   ]
  },
  {
   "cell_type": "code",
   "execution_count": null,
   "id": "b8b7ab8b",
   "metadata": {},
   "outputs": [],
   "source": [
    "text = \"Emma is good developer. Emma is a writer\""
   ]
  },
  {
   "cell_type": "markdown",
   "id": "acf7c0f1",
   "metadata": {},
   "source": [
    "#### Quiz:\n",
    "Print the following pattern:\n",
    "- 1 \n",
    "- 2 2\n",
    "- 3 3 3 \n",
    "- 4 4 4 4 \n",
    "- 5 5 5 5 5"
   ]
  },
  {
   "cell_type": "code",
   "execution_count": null,
   "id": "503e9b38",
   "metadata": {},
   "outputs": [],
   "source": []
  },
  {
   "cell_type": "markdown",
   "id": "a0c8a4e2",
   "metadata": {},
   "source": [
    "#### Quiz:\n",
    "Write a Program to extract each digit from an integer in the reverse order.\n",
    "- input : 5263\n",
    "- output: 3625"
   ]
  },
  {
   "cell_type": "code",
   "execution_count": null,
   "id": "669074e0",
   "metadata": {},
   "outputs": [],
   "source": []
  },
  {
   "cell_type": "markdown",
   "id": "8e7d0744",
   "metadata": {},
   "source": [
    "#### Quiz\n",
    "Write a program that writes the Fibonacci series to an arbitrary boundary:"
   ]
  },
  {
   "cell_type": "code",
   "execution_count": null,
   "id": "80c99a75",
   "metadata": {},
   "outputs": [],
   "source": []
  },
  {
   "cell_type": "markdown",
   "id": "e29bae6d",
   "metadata": {},
   "source": [
    "#### Quiz\n",
    "Write a script that writes Fibonacci numbers from 0 to the n'th number"
   ]
  },
  {
   "cell_type": "code",
   "execution_count": null,
   "id": "664e873e",
   "metadata": {},
   "outputs": [],
   "source": []
  },
  {
   "cell_type": "code",
   "execution_count": null,
   "id": "91b8d38e",
   "metadata": {},
   "outputs": [],
   "source": []
  },
  {
   "cell_type": "code",
   "execution_count": null,
   "id": "6384b518",
   "metadata": {},
   "outputs": [],
   "source": []
  },
  {
   "cell_type": "code",
   "execution_count": null,
   "id": "bb603299",
   "metadata": {},
   "outputs": [],
   "source": []
  },
  {
   "cell_type": "markdown",
   "id": "3b000481",
   "metadata": {},
   "source": [
    "### 9. Functions"
   ]
  },
  {
   "cell_type": "markdown",
   "id": "25caed63",
   "metadata": {},
   "source": [
    "### 10. Data Structures"
   ]
  },
  {
   "cell_type": "markdown",
   "id": "8985c4d9",
   "metadata": {},
   "source": [
    "#### 10.1 List"
   ]
  },
  {
   "cell_type": "markdown",
   "id": "26847f7f",
   "metadata": {},
   "source": [
    "#### 10.2. Tuple"
   ]
  },
  {
   "cell_type": "markdown",
   "id": "b402e327",
   "metadata": {},
   "source": [
    "#### 10.3. Dictionary"
   ]
  },
  {
   "cell_type": "markdown",
   "id": "f83b6414",
   "metadata": {},
   "source": [
    "#### 10.4. Set"
   ]
  },
  {
   "cell_type": "code",
   "execution_count": null,
   "id": "48dc0eee",
   "metadata": {},
   "outputs": [],
   "source": []
  }
 ],
 "metadata": {
  "kernelspec": {
   "display_name": "Python 3 (ipykernel)",
   "language": "python",
   "name": "python3"
  },
  "language_info": {
   "codemirror_mode": {
    "name": "ipython",
    "version": 3
   },
   "file_extension": ".py",
   "mimetype": "text/x-python",
   "name": "python",
   "nbconvert_exporter": "python",
   "pygments_lexer": "ipython3",
   "version": "3.10.9"
  }
 },
 "nbformat": 4,
 "nbformat_minor": 5
}
