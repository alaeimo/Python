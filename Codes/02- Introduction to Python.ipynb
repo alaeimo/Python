{
 "cells": [
  {
   "cell_type": "markdown",
   "id": "b3b6b2ba",
   "metadata": {},
   "source": [
    "### 1. The First Program "
   ]
  },
  {
   "cell_type": "code",
   "execution_count": null,
   "id": "54e2df1d",
   "metadata": {},
   "outputs": [],
   "source": [
    "\"Hello, World!\""
   ]
  },
  {
   "cell_type": "markdown",
   "id": "8d6aaa66",
   "metadata": {},
   "source": [
    "### 2. Arithmetic Operators"
   ]
  },
  {
   "cell_type": "markdown",
   "id": "e2f7d233",
   "metadata": {},
   "source": [
    "<img src=\"imgs/python-arithmetic-operators.jpg\">"
   ]
  },
  {
   "cell_type": "code",
   "execution_count": null,
   "id": "0a0fc4ca",
   "metadata": {},
   "outputs": [],
   "source": [
    "print(\"15+8 = \", 15+8)\n",
    "print(\"15-8 = \", 15-8)\n",
    "print(\"15*8 = \", 15*8)\n",
    "print(\"15**8 = \", 15**8)\n",
    "print(\"15/8 = \", 15/8)\n",
    "print(\"15//8 = \", 15//8)\n",
    "print(\"15%8 = \", 15%8)"
   ]
  },
  {
   "cell_type": "markdown",
   "id": "dc5eef58",
   "metadata": {},
   "source": [
    "#### 2.1. Order of operations \n",
    "\n",
    "##### PEMDAS:\n",
    "- Parentheses\n",
    "- Exponentiation\n",
    "- Multiplication\n",
    "- Division\n",
    "- Addition \n",
    "- Subtraction"
   ]
  },
  {
   "cell_type": "code",
   "execution_count": null,
   "id": "0ecd4339",
   "metadata": {},
   "outputs": [],
   "source": [
    "3 * (16-8)/2**3 + 4"
   ]
  },
  {
   "cell_type": "markdown",
   "id": "f89e89b4",
   "metadata": {},
   "source": [
    "### 3. Data Types"
   ]
  },
  {
   "cell_type": "markdown",
   "id": "5d5e096c",
   "metadata": {},
   "source": [
    "#### 3.1. Getting the Data Type\n",
    "You can get the data type of any object by using the type() function:"
   ]
  },
  {
   "cell_type": "code",
   "execution_count": null,
   "id": "ff9c6cc6",
   "metadata": {},
   "outputs": [],
   "source": [
    "print(type(\"Hello\"))"
   ]
  },
  {
   "cell_type": "code",
   "execution_count": null,
   "id": "46eca30c",
   "metadata": {},
   "outputs": [],
   "source": [
    "print(type(3))"
   ]
  },
  {
   "cell_type": "code",
   "execution_count": null,
   "id": "6282bf1f",
   "metadata": {},
   "outputs": [],
   "source": [
    "print(type(3.1415))"
   ]
  },
  {
   "cell_type": "code",
   "execution_count": null,
   "id": "5f234a0d",
   "metadata": {},
   "outputs": [],
   "source": [
    "print(type(True))"
   ]
  },
  {
   "cell_type": "code",
   "execution_count": null,
   "id": "75ee213b",
   "metadata": {},
   "outputs": [],
   "source": [
    "print(type(5+3j))"
   ]
  },
  {
   "cell_type": "markdown",
   "id": "47f84b1e",
   "metadata": {},
   "source": [
    "#### 3.2. Casting"
   ]
  },
  {
   "cell_type": "code",
   "execution_count": null,
   "id": "035f9d13",
   "metadata": {},
   "outputs": [],
   "source": [
    "print(int(3.1415))"
   ]
  },
  {
   "cell_type": "code",
   "execution_count": null,
   "id": "9eb8a41e",
   "metadata": {},
   "outputs": [],
   "source": [
    "print(float(255))"
   ]
  },
  {
   "cell_type": "code",
   "execution_count": null,
   "id": "1779d06f",
   "metadata": {},
   "outputs": [],
   "source": [
    "print(str(256))"
   ]
  },
  {
   "cell_type": "code",
   "execution_count": null,
   "id": "7ccf0f1c",
   "metadata": {},
   "outputs": [],
   "source": [
    "print(bool(0), bool(1))"
   ]
  },
  {
   "cell_type": "markdown",
   "id": "4cbaf18d",
   "metadata": {},
   "source": [
    "### 4.Variables"
   ]
  },
  {
   "cell_type": "markdown",
   "id": "a863c65d",
   "metadata": {},
   "source": [
    "#### 4.1. Defining a variable name\n",
    "Officially, variable names in Python can be any length and can consist of uppercase and lowercase letters ( A-Z , a-z ), digits ( 0-9 ), and the underscore character ( _ )"
   ]
  },
  {
   "cell_type": "code",
   "execution_count": null,
   "id": "ac82260c",
   "metadata": {},
   "outputs": [],
   "source": [
    "x1 = 15\n",
    "speed_of_light = 299_792_458\n",
    "pi = 3.1415\n",
    "message = \"This is a message!\""
   ]
  },
  {
   "cell_type": "code",
   "execution_count": null,
   "id": "bbbe59a0",
   "metadata": {},
   "outputs": [],
   "source": [
    "type(speed_of_light)"
   ]
  },
  {
   "cell_type": "code",
   "execution_count": null,
   "id": "eb565386",
   "metadata": {},
   "outputs": [],
   "source": [
    "x@\n",
    "x."
   ]
  },
  {
   "cell_type": "markdown",
   "id": "0355642f",
   "metadata": {},
   "source": [
    "#### Quiz"
   ]
  },
  {
   "cell_type": "code",
   "execution_count": null,
   "id": "4363cdc1",
   "metadata": {},
   "outputs": [],
   "source": [
    "x = 1.\n",
    "x"
   ]
  },
  {
   "cell_type": "code",
   "execution_count": null,
   "id": "72e1960c",
   "metadata": {},
   "outputs": [],
   "source": [
    "x = y = z = 1\n",
    "print(x,y,z)"
   ]
  },
  {
   "cell_type": "code",
   "execution_count": null,
   "id": "25109b3e",
   "metadata": {},
   "outputs": [],
   "source": [
    "a, b = 3, 4\n",
    "a,b"
   ]
  },
  {
   "cell_type": "code",
   "execution_count": null,
   "id": "4cc74603",
   "metadata": {},
   "outputs": [],
   "source": [
    "# Swap Two Variables\n",
    "# temp = a\n",
    "# a = b\n",
    "# b = temp\n",
    "# a,b \n",
    "\n",
    "a, b = b, a\n",
    "a,b"
   ]
  },
  {
   "cell_type": "code",
   "execution_count": null,
   "id": "11e7074c",
   "metadata": {},
   "outputs": [],
   "source": [
    "x = x + 1 # x+=1\n",
    "y = y * 5 # y*=5\n",
    "print(x,y)"
   ]
  },
  {
   "cell_type": "code",
   "execution_count": null,
   "id": "e62bac6b",
   "metadata": {},
   "outputs": [],
   "source": [
    "is_active = True\n",
    "response = None"
   ]
  },
  {
   "cell_type": "code",
   "execution_count": null,
   "id": "0843ecfb",
   "metadata": {},
   "outputs": [],
   "source": [
    "float('inf') # positive infinity\n",
    "float('-inf') # negative infinity"
   ]
  },
  {
   "cell_type": "code",
   "execution_count": null,
   "id": "570fe978",
   "metadata": {},
   "outputs": [],
   "source": [
    "float('nan') #not a number"
   ]
  },
  {
   "cell_type": "code",
   "execution_count": null,
   "id": "61acf15b",
   "metadata": {},
   "outputs": [],
   "source": [
    "# comment"
   ]
  },
  {
   "cell_type": "markdown",
   "id": "3c27de35",
   "metadata": {},
   "source": [
    "#### 4.2.Python3 keywords\n",
    "<img src=\"imgs/python-keywords.jpg\" > "
   ]
  },
  {
   "cell_type": "markdown",
   "id": "b989a208",
   "metadata": {},
   "source": [
    "### 5. String"
   ]
  },
  {
   "cell_type": "code",
   "execution_count": null,
   "id": "e9f84570",
   "metadata": {},
   "outputs": [],
   "source": [
    "text1 = \"Hello\"  # double-quote\n",
    "text2 = 'World'  # single-quote\n"
   ]
  },
  {
   "cell_type": "code",
   "execution_count": null,
   "id": "ed0232a4",
   "metadata": {},
   "outputs": [],
   "source": [
    "print(text1 + text2)  #string concatenation"
   ]
  },
  {
   "cell_type": "code",
   "execution_count": null,
   "id": "f737d267",
   "metadata": {},
   "outputs": [],
   "source": [
    "print(text1 + text2 + \"!\")  #string concatenation"
   ]
  },
  {
   "cell_type": "code",
   "execution_count": null,
   "id": "4925c652",
   "metadata": {},
   "outputs": [],
   "source": [
    "print(text1 * 3)  #Create multiple copies of a string in Python by using multiplication operator"
   ]
  },
  {
   "cell_type": "code",
   "execution_count": null,
   "id": "4a1d4856",
   "metadata": {},
   "outputs": [],
   "source": [
    "len(text1) #To get the length of a string"
   ]
  },
  {
   "cell_type": "code",
   "execution_count": null,
   "id": "577fe75f",
   "metadata": {},
   "outputs": [],
   "source": [
    "name = 'Max'\n",
    "age = 18\n",
    "\n",
    "print(\"Hello, My name is \" + name + \" and I'm \" + str(age) + \" years old.\")\n",
    "\n",
    "print(\"Hello, My name is %s and I'm %d years old.\" %(name, age))\n",
    "\n",
    "print(f\"Hello, My name is {name} and I'm {age} years old.\")  # f-string\n",
    "\n",
    "print(\"Hello, My name is {} and I'm {} years old.\".format(name, age))  # f-string"
   ]
  },
  {
   "cell_type": "code",
   "execution_count": null,
   "id": "9aa79752",
   "metadata": {},
   "outputs": [],
   "source": [
    "# Docstring\n",
    "print(\"\"\"\\\n",
    "Usage:app.py [OPTIONS]\n",
    "     -h      help\n",
    "     -M      Menu  \n",
    "\"\"\")"
   ]
  },
  {
   "cell_type": "code",
   "execution_count": null,
   "id": "067e1400",
   "metadata": {},
   "outputs": [],
   "source": [
    "# Use the Shift + Tab shortcut to access the docstring documentation of a function."
   ]
  },
  {
   "cell_type": "markdown",
   "id": "ab07a0f2",
   "metadata": {},
   "source": [
    "#### 5.1.Indexing Strings\n",
    "<img src=\"imgs/python-strings.jpg\" width=400>"
   ]
  },
  {
   "cell_type": "code",
   "execution_count": null,
   "id": "1c9aa47c",
   "metadata": {},
   "outputs": [],
   "source": [
    "message = \"Python Programming Language\"\n",
    "message[0]"
   ]
  },
  {
   "cell_type": "code",
   "execution_count": null,
   "id": "a5a1d746",
   "metadata": {},
   "outputs": [],
   "source": [
    "message[len(message)]"
   ]
  },
  {
   "cell_type": "code",
   "execution_count": null,
   "id": "5002783d",
   "metadata": {},
   "outputs": [],
   "source": [
    "message[len(message) - 1]"
   ]
  },
  {
   "cell_type": "markdown",
   "id": "b9daf04b",
   "metadata": {},
   "source": [
    "#### 5.2. Reverse Indexing"
   ]
  },
  {
   "cell_type": "code",
   "execution_count": null,
   "id": "95082917",
   "metadata": {},
   "outputs": [],
   "source": [
    "message[-1]"
   ]
  },
  {
   "cell_type": "code",
   "execution_count": null,
   "id": "9432df03",
   "metadata": {},
   "outputs": [],
   "source": [
    "message[-2]"
   ]
  },
  {
   "cell_type": "code",
   "execution_count": null,
   "id": "d6050319",
   "metadata": {},
   "outputs": [],
   "source": [
    "len(message)"
   ]
  },
  {
   "cell_type": "markdown",
   "id": "3838cb3a",
   "metadata": {},
   "source": [
    "#### 5.3.Substring"
   ]
  },
  {
   "cell_type": "code",
   "execution_count": null,
   "id": "b19cb72d",
   "metadata": {},
   "outputs": [],
   "source": [
    "# String[start:end:step]"
   ]
  },
  {
   "cell_type": "code",
   "execution_count": null,
   "id": "b79b3eb3",
   "metadata": {},
   "outputs": [],
   "source": [
    "message[27:0:-1] "
   ]
  },
  {
   "cell_type": "code",
   "execution_count": null,
   "id": "3a450dbb",
   "metadata": {},
   "outputs": [],
   "source": [
    "dir(message)"
   ]
  },
  {
   "cell_type": "code",
   "execution_count": null,
   "id": "68e1e79e",
   "metadata": {},
   "outputs": [],
   "source": [
    "message[:6] "
   ]
  },
  {
   "cell_type": "code",
   "execution_count": null,
   "id": "cd46465e",
   "metadata": {},
   "outputs": [],
   "source": [
    "message[-8:]"
   ]
  },
  {
   "cell_type": "code",
   "execution_count": null,
   "id": "7a5958f5",
   "metadata": {},
   "outputs": [],
   "source": [
    "# Strings are immutable\n",
    "message[0] = \"J\""
   ]
  },
  {
   "cell_type": "markdown",
   "id": "4da5a9bc",
   "metadata": {},
   "source": [
    "### 6. Getting Help"
   ]
  },
  {
   "cell_type": "code",
   "execution_count": null,
   "id": "9b0aca27",
   "metadata": {},
   "outputs": [],
   "source": [
    "type(message)"
   ]
  },
  {
   "cell_type": "code",
   "execution_count": null,
   "id": "87108e57",
   "metadata": {},
   "outputs": [],
   "source": [
    "message.find()"
   ]
  },
  {
   "cell_type": "code",
   "execution_count": null,
   "id": "b81bfc65",
   "metadata": {},
   "outputs": [],
   "source": [
    "dir(str)"
   ]
  },
  {
   "cell_type": "code",
   "execution_count": null,
   "id": "59140ff9",
   "metadata": {},
   "outputs": [],
   "source": [
    "help(message.split)"
   ]
  },
  {
   "cell_type": "code",
   "execution_count": null,
   "id": "91b0a4ac",
   "metadata": {},
   "outputs": [],
   "source": [
    "message.split(\" \")"
   ]
  },
  {
   "cell_type": "code",
   "execution_count": null,
   "id": "6da336e5",
   "metadata": {},
   "outputs": [],
   "source": [
    "message.find('L')"
   ]
  },
  {
   "cell_type": "code",
   "execution_count": null,
   "id": "d88067ca",
   "metadata": {},
   "outputs": [],
   "source": [
    "message.index(\"Lang\")"
   ]
  },
  {
   "cell_type": "code",
   "execution_count": null,
   "id": "760b2c26",
   "metadata": {},
   "outputs": [],
   "source": [
    "message.upper()"
   ]
  },
  {
   "cell_type": "code",
   "execution_count": null,
   "id": "0f3eb0df",
   "metadata": {},
   "outputs": [],
   "source": [
    "message.lower()"
   ]
  },
  {
   "cell_type": "code",
   "execution_count": null,
   "id": "09790b47",
   "metadata": {},
   "outputs": [],
   "source": [
    "text = \"1\"\n",
    "text.isdigit()"
   ]
  },
  {
   "cell_type": "markdown",
   "id": "672cd583",
   "metadata": {},
   "source": [
    "### 7.Decision Making\n",
    "<img src=\"imgs/Conditional-Statements-in-Python.jpg\" width=400>"
   ]
  },
  {
   "cell_type": "markdown",
   "id": "9426e91e",
   "metadata": {},
   "source": [
    "#### 7.1 if ... else Statement"
   ]
  },
  {
   "cell_type": "code",
   "execution_count": null,
   "id": "a7984dc0",
   "metadata": {},
   "outputs": [],
   "source": [
    "age = 15\n",
    "\n",
    "if age < 18:\n",
    "    print(\"Child\") #use tab or 4 space's\n",
    "    \n",
    "    \n",
    "    \n",
    "else:\n",
    "    print(\"Adult\")"
   ]
  },
  {
   "cell_type": "code",
   "execution_count": null,
   "id": "0d160dfe",
   "metadata": {},
   "outputs": [],
   "source": [
    "age = 45\n",
    "\n",
    "if age < 18:\n",
    "    print(\"Child\")\n",
    "elif 18 <= age <= 30:\n",
    "    print(\"Young Adult\")\n",
    "elif 30 < age <= 45:\n",
    "    print(\"Middle-aged Adult\")\n",
    "else:\n",
    "    print(\"Elderly\")"
   ]
  },
  {
   "cell_type": "code",
   "execution_count": null,
   "id": "95f4e7b7",
   "metadata": {},
   "outputs": [],
   "source": [
    "is_active = False\n",
    "\n",
    "if is_active:\n",
    "    print(\"Acive\")"
   ]
  },
  {
   "cell_type": "code",
   "execution_count": null,
   "id": "30fffa96",
   "metadata": {},
   "outputs": [],
   "source": [
    "message = None\n",
    "message"
   ]
  },
  {
   "cell_type": "code",
   "execution_count": null,
   "id": "e02c4bc8",
   "metadata": {},
   "outputs": [],
   "source": [
    "bool(message)"
   ]
  },
  {
   "cell_type": "code",
   "execution_count": null,
   "id": "e9861d22",
   "metadata": {},
   "outputs": [],
   "source": [
    "message = None\n",
    "\n",
    "if message: print(message)"
   ]
  },
  {
   "cell_type": "code",
   "execution_count": null,
   "id": "746237fe",
   "metadata": {},
   "outputs": [],
   "source": [
    "text = \"Hello World\"\n",
    "\n",
    "if \"Hello\" in text:\n",
    "    print(True)"
   ]
  },
  {
   "cell_type": "code",
   "execution_count": null,
   "id": "d36c2bea",
   "metadata": {},
   "outputs": [],
   "source": [
    "status = True\n",
    "\n",
    "if status is True:\n",
    "    print(\"True\")"
   ]
  },
  {
   "cell_type": "code",
   "execution_count": null,
   "id": "9f058b3a",
   "metadata": {},
   "outputs": [],
   "source": [
    "status = True\n",
    "\n",
    "if status != True:\n",
    "    print(\"False\")"
   ]
  },
  {
   "cell_type": "code",
   "execution_count": null,
   "id": "5ef9808a",
   "metadata": {},
   "outputs": [],
   "source": [
    "condition1 = True\n",
    "condition2 = False\n",
    "\n",
    "if condition1 and condition2:\n",
    "    print(\"and\")\n",
    "\n",
    "if condition1 or condition2:\n",
    "    print(\"or\")"
   ]
  },
  {
   "cell_type": "markdown",
   "id": "9d304954",
   "metadata": {},
   "source": [
    "#### 7.2 match statement"
   ]
  },
  {
   "cell_type": "code",
   "execution_count": null,
   "id": "fe19d353",
   "metadata": {},
   "outputs": [],
   "source": [
    "status = 400\n",
    "\n",
    "match status:\n",
    "    case 400:\n",
    "        print(\"Bad request\")\n",
    "    case 404:\n",
    "        print(\"Not found\") \n",
    "    case 418:\n",
    "        print(\"I'm a teapot\") \n",
    "    case _:\n",
    "        print(\"Something's wrong with the internet\") "
   ]
  },
  {
   "cell_type": "markdown",
   "id": "9b3ca1bf",
   "metadata": {},
   "source": [
    "### 8. Loops\n",
    "<table>\n",
    "    <tr>\n",
    "        <td>\n",
    "            <img src=\"imgs/Python-For-Loops.jpg\" width=400>\n",
    "        </td>\n",
    "        <td>\n",
    "            <img src=\"imgs/Python-While-Loops.jpg\" width=400>\n",
    "        </td>\n",
    "    </tr>\n",
    "</table>"
   ]
  },
  {
   "cell_type": "markdown",
   "id": "fec70806",
   "metadata": {},
   "source": [
    "#### 8.1. for loop"
   ]
  },
  {
   "cell_type": "code",
   "execution_count": null,
   "id": "99501377",
   "metadata": {},
   "outputs": [],
   "source": [
    "for letter in 'Python':\n",
    "    print('Current Letter :', letter)"
   ]
  },
  {
   "cell_type": "markdown",
   "id": "b48aaceb",
   "metadata": {},
   "source": [
    "#### 8.2. range()"
   ]
  },
  {
   "cell_type": "code",
   "execution_count": null,
   "id": "1e3c6bcf",
   "metadata": {},
   "outputs": [],
   "source": [
    "help(range)"
   ]
  },
  {
   "cell_type": "code",
   "execution_count": null,
   "id": "b0c2ec6c",
   "metadata": {},
   "outputs": [],
   "source": [
    "for num in range(0, 5):\n",
    "    print(\"Current Number: \", num)"
   ]
  },
  {
   "cell_type": "code",
   "execution_count": null,
   "id": "2e030f07",
   "metadata": {},
   "outputs": [],
   "source": [
    "text = \"Python\"\n",
    "for idx in range(len(text)):\n",
    "    print(text[idx])"
   ]
  },
  {
   "cell_type": "code",
   "execution_count": null,
   "id": "992388da",
   "metadata": {},
   "outputs": [],
   "source": [
    "for num in range(0, 5, 2):\n",
    "    print(\"Current Number: \", num)"
   ]
  },
  {
   "cell_type": "markdown",
   "id": "c652a2f3",
   "metadata": {},
   "source": [
    "#### Quiz"
   ]
  },
  {
   "cell_type": "code",
   "execution_count": null,
   "id": "f5a24b71",
   "metadata": {},
   "outputs": [],
   "source": [
    "import numpy as np"
   ]
  },
  {
   "cell_type": "code",
   "execution_count": null,
   "id": "868a4c4b",
   "metadata": {},
   "outputs": [],
   "source": []
  },
  {
   "cell_type": "code",
   "execution_count": null,
   "id": "3a3c4fe4",
   "metadata": {},
   "outputs": [],
   "source": [
    "for x in np.linspace(0,1,11):\n",
    "    print(round(x,2))"
   ]
  },
  {
   "cell_type": "markdown",
   "id": "f654f598",
   "metadata": {},
   "source": [
    "#### 8.3. break"
   ]
  },
  {
   "cell_type": "code",
   "execution_count": null,
   "id": "7bb23b37",
   "metadata": {},
   "outputs": [],
   "source": [
    "quote = \"You cannot escape the responsibility of tomorrow by evading it today.\"\n",
    "\n",
    "for i in range(len(quote)):\n",
    "    letter = quote[i]\n",
    "    if letter == \"s\": \n",
    "        break\n",
    "    print(letter, end=\"\")"
   ]
  },
  {
   "cell_type": "markdown",
   "id": "80d800d2",
   "metadata": {},
   "source": [
    "#### 8.4. Using else Statement with for Loop"
   ]
  },
  {
   "cell_type": "code",
   "execution_count": null,
   "id": "4d75ecd2",
   "metadata": {},
   "outputs": [],
   "source": [
    "container = [\"header\", \"title\", \"body\",\"footer\"]\n",
    "\n",
    "for item in container:\n",
    "    if item == \"subject\":\n",
    "        print(\"Found it!\")\n",
    "        break\n",
    "else:\n",
    "    print(\"Didn't find anything..\")"
   ]
  },
  {
   "cell_type": "markdown",
   "id": "ea82f00b",
   "metadata": {},
   "source": [
    "#### 8.5. while loop"
   ]
  },
  {
   "cell_type": "code",
   "execution_count": null,
   "id": "0a8a433d",
   "metadata": {},
   "outputs": [],
   "source": [
    "count = 0\n",
    "while count < 9:\n",
    "    print(\"The count is:\", count)\n",
    "    count = count + 1"
   ]
  },
  {
   "cell_type": "markdown",
   "id": "2e5c8a03",
   "metadata": {},
   "source": [
    "#### 8.6. nested loops"
   ]
  },
  {
   "cell_type": "code",
   "execution_count": null,
   "id": "26372610",
   "metadata": {},
   "outputs": [],
   "source": [
    "for i in range(5):\n",
    "    for j in range(2):\n",
    "        print(i,j, i*j)\n",
    "    "
   ]
  },
  {
   "cell_type": "markdown",
   "id": "7c5505ae",
   "metadata": {},
   "source": [
    "#### 8.7. enumerate()"
   ]
  },
  {
   "cell_type": "code",
   "execution_count": null,
   "id": "2ee7aa18",
   "metadata": {},
   "outputs": [],
   "source": [
    "text = \"Python\"\n",
    "for i, c in enumerate(text):\n",
    "    print(i, c)"
   ]
  },
  {
   "cell_type": "markdown",
   "id": "00656469",
   "metadata": {},
   "source": [
    "#### Quiz:\n",
    "Write a script to return the count of \"Emma\" from a text:\n"
   ]
  },
  {
   "cell_type": "code",
   "execution_count": null,
   "id": "b8b7ab8b",
   "metadata": {},
   "outputs": [],
   "source": [
    "text = \"Emma is good developer. Emma is a writer\""
   ]
  },
  {
   "cell_type": "markdown",
   "id": "acf7c0f1",
   "metadata": {},
   "source": [
    "#### Quiz:\n",
    "Print the following pattern:\n",
    "- 1 \n",
    "- 2 2\n",
    "- 3 3 3 \n",
    "- 4 4 4 4 \n",
    "- 5 5 5 5 5"
   ]
  },
  {
   "cell_type": "markdown",
   "id": "a0c8a4e2",
   "metadata": {},
   "source": [
    "#### Quiz:\n",
    "Write a Program to extract each digit from an integer in the reverse order.\n",
    "- input : 5263\n",
    "- output: 3625"
   ]
  },
  {
   "cell_type": "markdown",
   "id": "8e7d0744",
   "metadata": {},
   "source": [
    "#### Quiz\n",
    "Write a program that writes the Fibonacci series to an arbitrary boundary:"
   ]
  },
  {
   "cell_type": "markdown",
   "id": "e29bae6d",
   "metadata": {},
   "source": [
    "#### Quiz\n",
    "Write a script that writes Fibonacci numbers from 0 to the n'th number"
   ]
  },
  {
   "cell_type": "markdown",
   "id": "25caed63",
   "metadata": {},
   "source": [
    "### 9. Data Structures\n",
    "<img src=\"imgs/python-ds.jpg\" width=500>"
   ]
  },
  {
   "cell_type": "markdown",
   "id": "8985c4d9",
   "metadata": {},
   "source": [
    "#### 9.1 List\n",
    "\n",
    "Like a string, a list is a sequence of values."
   ]
  },
  {
   "cell_type": "markdown",
   "id": "dd6a69bf",
   "metadata": {},
   "source": [
    "#### 9.1.1. Defining a list"
   ]
  },
  {
   "cell_type": "code",
   "execution_count": null,
   "id": "179a4392",
   "metadata": {},
   "outputs": [],
   "source": [
    "series = []\n",
    "movies = list()\n",
    "type(series), type(movies)"
   ]
  },
  {
   "cell_type": "code",
   "execution_count": null,
   "id": "3275d7e5",
   "metadata": {},
   "outputs": [],
   "source": [
    "names = ['Ross', 'Monica', 'Chandler','Joey','Phoebe','Rachel']\n",
    "ages = [26, 24, 26, 25, 26, 24]\n",
    "movies = [7, 'Interstelar', ['The Matrix 1','The Matrix 2','The Matrix 3']]"
   ]
  },
  {
   "cell_type": "code",
   "execution_count": null,
   "id": "bc895fdc",
   "metadata": {},
   "outputs": [],
   "source": [
    "[[1, 1, 1]\n",
    "[2, 3, 4]\n",
    "[5, 6, 7]]"
   ]
  },
  {
   "cell_type": "code",
   "execution_count": null,
   "id": "1aa489ea",
   "metadata": {},
   "outputs": [],
   "source": [
    "matrix = [[1,1,1],\n",
    "          [2,3,4],\n",
    "          [5,6,7]]"
   ]
  },
  {
   "cell_type": "code",
   "execution_count": null,
   "id": "9b814808",
   "metadata": {},
   "outputs": [],
   "source": [
    "matrix"
   ]
  },
  {
   "cell_type": "markdown",
   "id": "fb67468e",
   "metadata": {},
   "source": [
    "#### 9.1.2. Lists are mutable"
   ]
  },
  {
   "cell_type": "code",
   "execution_count": null,
   "id": "57b66e96",
   "metadata": {},
   "outputs": [],
   "source": [
    "movies[-1] = 'Arrival'\n",
    "movies"
   ]
  },
  {
   "cell_type": "markdown",
   "id": "d7966c84",
   "metadata": {},
   "source": [
    "#### 9.1.3. Traversing a list"
   ]
  },
  {
   "cell_type": "code",
   "execution_count": null,
   "id": "6610f337",
   "metadata": {},
   "outputs": [],
   "source": [
    "books = ['Momma and the Meaning of Life', 'When Nietzsche Wept', 'The Schopenhauer Cure']\n",
    "for book in books:\n",
    "    print(book)"
   ]
  },
  {
   "cell_type": "code",
   "execution_count": null,
   "id": "e8f0c665",
   "metadata": {},
   "outputs": [],
   "source": [
    "'When Nietzsche Wept' in books"
   ]
  },
  {
   "cell_type": "markdown",
   "id": "136bc1e1",
   "metadata": {},
   "source": [
    "#### 9.1.4. List Operations"
   ]
  },
  {
   "cell_type": "code",
   "execution_count": null,
   "id": "c60d9873",
   "metadata": {},
   "outputs": [],
   "source": [
    "a = [1,2,3,4]\n",
    "b = [5,6,7,8]\n",
    "c = a + b\n",
    "c"
   ]
  },
  {
   "cell_type": "code",
   "execution_count": null,
   "id": "254287b3",
   "metadata": {},
   "outputs": [],
   "source": [
    "np.ones(10)"
   ]
  },
  {
   "cell_type": "code",
   "execution_count": null,
   "id": "29417ca8",
   "metadata": {},
   "outputs": [],
   "source": [
    "a = [1,2,3]\n",
    "c = a * 4\n",
    "c"
   ]
  },
  {
   "cell_type": "markdown",
   "id": "3c33d136",
   "metadata": {},
   "source": [
    "#### 9.1.5. List Slices"
   ]
  },
  {
   "cell_type": "code",
   "execution_count": null,
   "id": "778d63ff",
   "metadata": {},
   "outputs": [],
   "source": [
    "letters = ['a', 'b', 'c', 'd', 'e','f','g']\n",
    "letters[0:2]"
   ]
  },
  {
   "cell_type": "code",
   "execution_count": null,
   "id": "ae73e29a",
   "metadata": {},
   "outputs": [],
   "source": [
    "letters[0::2]"
   ]
  },
  {
   "cell_type": "code",
   "execution_count": null,
   "id": "57e418f3",
   "metadata": {},
   "outputs": [],
   "source": [
    "letters[:-2:2]"
   ]
  },
  {
   "cell_type": "code",
   "execution_count": null,
   "id": "c0c00b1e",
   "metadata": {},
   "outputs": [],
   "source": [
    "letters[0:2] = ['h','i']\n",
    "letters"
   ]
  },
  {
   "cell_type": "code",
   "execution_count": null,
   "id": "c4963f1e",
   "metadata": {},
   "outputs": [],
   "source": [
    "letters[::-1]"
   ]
  },
  {
   "cell_type": "code",
   "execution_count": null,
   "id": "65d80943",
   "metadata": {},
   "outputs": [],
   "source": [
    "letters"
   ]
  },
  {
   "cell_type": "code",
   "execution_count": null,
   "id": "6f3f1464",
   "metadata": {},
   "outputs": [],
   "source": [
    "letters.reverse()\n",
    "letters"
   ]
  },
  {
   "cell_type": "markdown",
   "id": "cf807654",
   "metadata": {},
   "source": [
    "#### 9.1.6. List methods"
   ]
  },
  {
   "cell_type": "markdown",
   "id": "02eda82c",
   "metadata": {},
   "source": [
    "##### 9.1.6.1. append(x)"
   ]
  },
  {
   "cell_type": "code",
   "execution_count": null,
   "id": "ee53e3a6",
   "metadata": {},
   "outputs": [],
   "source": [
    "# Add an item to the end of the list. Equivalent to a[len(a):] = [x].\n",
    "\n",
    "names = ['Ross', 'Monica', 'Chandler','Joey','Phoebe','Rachel']\n",
    "names.append('Gunther')\n",
    "names"
   ]
  },
  {
   "cell_type": "markdown",
   "id": "bab81a3c",
   "metadata": {},
   "source": [
    "#### 9.1.6.2. extend(iterable)"
   ]
  },
  {
   "cell_type": "code",
   "execution_count": null,
   "id": "6187e959",
   "metadata": {},
   "outputs": [],
   "source": [
    "# list.extend(iterable)\n",
    "# Extend the list by appending all the items from the iterable. Equivalent to a[len(a):] = iterable.\n",
    "group_a = [9, 5, 6, 9, 7]\n",
    "group_b = [4, 6, 3]\n",
    "group_a.extend(group_b)\n",
    "group_a"
   ]
  },
  {
   "cell_type": "markdown",
   "id": "a01f6f4b",
   "metadata": {},
   "source": [
    "#### 9.1.6.3. insert(i, x)"
   ]
  },
  {
   "cell_type": "code",
   "execution_count": null,
   "id": "3638836f",
   "metadata": {},
   "outputs": [],
   "source": [
    "# list.insert(i, x)\n",
    "# Insert an item at a given position.\n",
    "ranking = [9, 5, 6, 9, 7]\n",
    "ranking.insert(10, 4)\n",
    "ranking"
   ]
  },
  {
   "cell_type": "markdown",
   "id": "dfe5ae29",
   "metadata": {},
   "source": [
    "#### 9.1.6.4. copy()"
   ]
  },
  {
   "cell_type": "code",
   "execution_count": null,
   "id": "3b719ed3",
   "metadata": {},
   "outputs": [],
   "source": [
    "# list.copy()\n",
    "# Return a shallow copy of the list. Equivalent to a[:].\n",
    "ages = [26, 24, 26, 25, 26, 24]\n",
    "new_ages = ages.copy()\n",
    "new_ages.insert(0, 15)\n",
    "ages, new_ages"
   ]
  },
  {
   "cell_type": "code",
   "execution_count": null,
   "id": "83cfdc2d",
   "metadata": {},
   "outputs": [],
   "source": [
    "ages = [26, 24, 26, 25, 26, 24]\n",
    "new_ages = ages\n",
    "new_ages.insert(0, 15)\n",
    "ages, new_ages"
   ]
  },
  {
   "cell_type": "markdown",
   "id": "49873c50",
   "metadata": {},
   "source": [
    "#### 9.1.6.5. remove(x)"
   ]
  },
  {
   "cell_type": "code",
   "execution_count": null,
   "id": "49164257",
   "metadata": {},
   "outputs": [],
   "source": [
    "# list.remove(x)\n",
    "# Remove the first item from the list whose value is equal to x.\n",
    "books = ['Momma and the Meaning of Life', 'When Nietzsche Wept', 'The Schopenhauer Cure']\n",
    "books.remove('When Nietzsche Wept')\n",
    "books"
   ]
  },
  {
   "cell_type": "markdown",
   "id": "edc25728",
   "metadata": {},
   "source": [
    "#### 9.1.6.6. pop([i])"
   ]
  },
  {
   "cell_type": "code",
   "execution_count": null,
   "id": "93c0c1b3",
   "metadata": {},
   "outputs": [],
   "source": [
    "# list.pop([i])\n",
    "# Remove the item at the given position in the list, and return it.\n",
    "names = ['Ross', 'Monica', 'Chandler','Joey','Phoebe','Rachel']\n",
    "names.pop(-1), names.pop()"
   ]
  },
  {
   "cell_type": "markdown",
   "id": "927f28ab",
   "metadata": {},
   "source": [
    "#### 9.1.6.7. count(x)"
   ]
  },
  {
   "cell_type": "code",
   "execution_count": null,
   "id": "c07b56ba",
   "metadata": {},
   "outputs": [],
   "source": [
    "# list.count(x)\n",
    "# Return the number of times x appears in the list.\n",
    "letters = ['a', 'b', 'c', 'd', 'e','f','g','f']\n",
    "letters.count('f')"
   ]
  },
  {
   "cell_type": "markdown",
   "id": "ebabe331",
   "metadata": {},
   "source": [
    "#### 9.1.6.8. index(x[, start[, end]])"
   ]
  },
  {
   "cell_type": "code",
   "execution_count": null,
   "id": "34fc6ef3",
   "metadata": {},
   "outputs": [],
   "source": [
    "# list.index(x[, start[, end]])\n",
    "# Return zero-based index in the list of the first item whose value is equal to x.\n",
    "letters = ['a', 'b', 'e', 'd', 'e','f','g','f']\n",
    "letters.index('e', 3)"
   ]
  },
  {
   "cell_type": "markdown",
   "id": "4129b3dd",
   "metadata": {},
   "source": [
    "#### 9.1.6.9. sort()"
   ]
  },
  {
   "cell_type": "code",
   "execution_count": null,
   "id": "550099ed",
   "metadata": {},
   "outputs": [],
   "source": [
    "# list.sort(*, key=None, reverse=False)\n",
    "# Sort the items of the list in place)\n",
    "fruits = ['orange', 'apple', 'pear', 'kiwi', 'banana']\n",
    "fruits.sort(reverse=True)\n",
    "fruits"
   ]
  },
  {
   "cell_type": "code",
   "execution_count": null,
   "id": "91e2842b",
   "metadata": {},
   "outputs": [],
   "source": [
    "fruits = ['orange', 'apple', 'pear', 'kiwi', 'banana']\n",
    "sorted(fruits,reverse=True)"
   ]
  },
  {
   "cell_type": "markdown",
   "id": "c41b6178",
   "metadata": {},
   "source": [
    "#### 9.1.7. Nested Lists"
   ]
  },
  {
   "cell_type": "code",
   "execution_count": null,
   "id": "fe8895f5",
   "metadata": {},
   "outputs": [],
   "source": [
    "# [[1,1,1], [2, 2, 2], [3, 3, 3]]\n",
    "matrix = [[i]*3 for i in range(1,4)]\n",
    "matrix"
   ]
  },
  {
   "cell_type": "code",
   "execution_count": null,
   "id": "58210b59",
   "metadata": {},
   "outputs": [],
   "source": [
    "matrix = []\n",
    "for i in range(1,4):\n",
    "    row = [i]*3\n",
    "    matrix.append(row)\n",
    "matrix"
   ]
  },
  {
   "cell_type": "markdown",
   "id": "adf933bd",
   "metadata": {},
   "source": [
    "### 9.1.8. del"
   ]
  },
  {
   "cell_type": "code",
   "execution_count": null,
   "id": "0753aa2a",
   "metadata": {},
   "outputs": [],
   "source": [
    "matrix = [[1, 2, 3], [4, 5, 6], [7, 8, 9]]\n",
    "del matrix[0:2]\n",
    "matrix"
   ]
  },
  {
   "cell_type": "markdown",
   "id": "26847f7f",
   "metadata": {},
   "source": [
    "#### 9.2. Tuple"
   ]
  },
  {
   "cell_type": "code",
   "execution_count": null,
   "id": "99a0f7a5",
   "metadata": {},
   "outputs": [],
   "source": [
    "# Tuple is a collection which is ordered and unchangeable. Allows duplicate members.\n",
    "\n",
    "names = ()\n",
    "books = tuple(('x','y'))\n",
    "\n",
    "sizes = 'large',\n",
    "\n",
    "ranking = (\"a\", 'b', 'c')\n",
    "ages = 1,2,3,4\n",
    "\n",
    "data = (\"abc\", 34, True, 40, \"male\")"
   ]
  },
  {
   "cell_type": "code",
   "execution_count": null,
   "id": "4ffc1fa3",
   "metadata": {},
   "outputs": [],
   "source": [
    "# Unpacking\n",
    "rank1, rank2, rank3 = ranking\n",
    "rank1"
   ]
  },
  {
   "cell_type": "code",
   "execution_count": null,
   "id": "06707143",
   "metadata": {},
   "outputs": [],
   "source": [
    "# Slicing\n",
    "data[1:3]"
   ]
  },
  {
   "cell_type": "code",
   "execution_count": null,
   "id": "ed423599",
   "metadata": {},
   "outputs": [],
   "source": [
    "# Tuples Are Immutable\n",
    "data[0] = 5"
   ]
  },
  {
   "cell_type": "code",
   "execution_count": null,
   "id": "8d9817f9",
   "metadata": {},
   "outputs": [],
   "source": [
    "# str to tuple\n",
    "tuple('Python')"
   ]
  },
  {
   "cell_type": "code",
   "execution_count": null,
   "id": "877f5665",
   "metadata": {},
   "outputs": [],
   "source": [
    "# zip\n",
    "s = ('a','b','c')\n",
    "d = (1,2,3)\n",
    "e = ('g','c')\n",
    "\n",
    "for pair in zip(s,d,e):\n",
    "    print(pair)"
   ]
  },
  {
   "cell_type": "markdown",
   "id": "b402e327",
   "metadata": {},
   "source": [
    "#### 9.3. Dictionary"
   ]
  },
  {
   "cell_type": "code",
   "execution_count": null,
   "id": "5d842584",
   "metadata": {},
   "outputs": [],
   "source": [
    "# Dictionaries are used to store data values in key:value pairs"
   ]
  },
  {
   "cell_type": "code",
   "execution_count": null,
   "id": "d6f213fe",
   "metadata": {},
   "outputs": [],
   "source": [
    "car = {\"brand\": \"Ford\",\"model\": \"Mustang\",\"year\": 1964}\n",
    "\n",
    "\n",
    "ages1 = dict([('Maria', 1996), ('Alex', 1997), ('Jack', 1994)])\n",
    "\n",
    "ages2 = dict(Maria=1996, Alex=1997, Jack=1994)\n",
    "\n",
    "print(ages1)\n",
    "print(ages2)\n",
    "print(car)"
   ]
  },
  {
   "cell_type": "code",
   "execution_count": null,
   "id": "95b4b952",
   "metadata": {},
   "outputs": [],
   "source": [
    "ages1['Maria']"
   ]
  },
  {
   "cell_type": "code",
   "execution_count": null,
   "id": "6ec253a1",
   "metadata": {},
   "outputs": [],
   "source": [
    "car.get('brand')"
   ]
  },
  {
   "cell_type": "code",
   "execution_count": null,
   "id": "2ffb1776",
   "metadata": {},
   "outputs": [],
   "source": [
    "car.get('age', 0)"
   ]
  },
  {
   "cell_type": "code",
   "execution_count": null,
   "id": "b79a5ab8",
   "metadata": {},
   "outputs": [],
   "source": [
    "keys = car.keys()\n",
    "values = car.values()\n",
    "items = car.items()\n",
    "    \n",
    "print(keys)\n",
    "print(values)\n",
    "print(items)"
   ]
  },
  {
   "cell_type": "code",
   "execution_count": null,
   "id": "52b0e383",
   "metadata": {},
   "outputs": [],
   "source": []
  },
  {
   "cell_type": "code",
   "execution_count": null,
   "id": "e1c5050a",
   "metadata": {},
   "outputs": [],
   "source": [
    "for k,v in car.items():\n",
    "    print(k , v)"
   ]
  },
  {
   "cell_type": "code",
   "execution_count": null,
   "id": "21a32d76",
   "metadata": {},
   "outputs": [],
   "source": [
    "# list as a key for dictionary\n",
    "data = {tuple([1,2,3]):3, tuple([1,2]):2}"
   ]
  },
  {
   "cell_type": "code",
   "execution_count": null,
   "id": "e1d59a67",
   "metadata": {},
   "outputs": [],
   "source": [
    "data = {(1,2,3):3, (1,2):2}\n",
    "data"
   ]
  },
  {
   "cell_type": "code",
   "execution_count": null,
   "id": "4481aa93",
   "metadata": {},
   "outputs": [],
   "source": [
    "data[(1,2,3)]"
   ]
  },
  {
   "cell_type": "markdown",
   "id": "09dcd56d",
   "metadata": {},
   "source": [
    "#### Quiz"
   ]
  },
  {
   "cell_type": "code",
   "execution_count": null,
   "id": "9fa530d9",
   "metadata": {},
   "outputs": [],
   "source": [
    "# Suppose you are given a string and you want to count how many times each letter appears.\n",
    "# Use a dictionary and write a script to do this:\n",
    "\n",
    "text = \"Today is hard, tomorrow will be worse, but the day after tomorrow will be sunshine.\""
   ]
  },
  {
   "cell_type": "markdown",
   "id": "f83b6414",
   "metadata": {},
   "source": [
    "#### 9.4. Set"
   ]
  },
  {
   "cell_type": "code",
   "execution_count": null,
   "id": "6d377207",
   "metadata": {},
   "outputs": [],
   "source": [
    "# A Set in Python programming is an unordered collection data type that is iterable, mutable and has no duplicate elements. "
   ]
  },
  {
   "cell_type": "code",
   "execution_count": null,
   "id": "547e0006",
   "metadata": {},
   "outputs": [],
   "source": [
    "fruits = {\"apple\", \"banana\", \"cherry\"}\n",
    "brands = set([\"Tesla\",\"Cadillac\",\"Nissan\",\"Jeep\",\"BMW\",\"BMW\"])\n",
    "brands"
   ]
  },
  {
   "cell_type": "code",
   "execution_count": null,
   "id": "2f76bcca",
   "metadata": {},
   "outputs": [],
   "source": [
    "fruits = fruits.union({\"orange\"})\n",
    "fruits"
   ]
  },
  {
   "cell_type": "code",
   "execution_count": null,
   "id": "2580101a",
   "metadata": {},
   "outputs": [],
   "source": [
    "fruits.add(\"grape\")\n",
    "fruits"
   ]
  },
  {
   "cell_type": "code",
   "execution_count": null,
   "id": "c5145887",
   "metadata": {},
   "outputs": [],
   "source": [
    "brands.remove(\"BMW\")\n",
    "brands"
   ]
  },
  {
   "cell_type": "code",
   "execution_count": null,
   "id": "5ab44d0f",
   "metadata": {},
   "outputs": [],
   "source": [
    "set1 = set()\n",
    "set2 = set()\n",
    " \n",
    "for i in range(5):\n",
    "    set1.add(i)\n",
    "\n",
    "for i in range(3,9):\n",
    "    set2.add(i)\n",
    "    \n",
    "set1, set2"
   ]
  },
  {
   "cell_type": "code",
   "execution_count": null,
   "id": "ac976462",
   "metadata": {},
   "outputs": [],
   "source": [
    "set1.union(set2)"
   ]
  },
  {
   "cell_type": "code",
   "execution_count": null,
   "id": "5c49da1e",
   "metadata": {},
   "outputs": [],
   "source": [
    "set1 | set2"
   ]
  },
  {
   "cell_type": "code",
   "execution_count": null,
   "id": "ae4971ef",
   "metadata": {},
   "outputs": [],
   "source": [
    "set1.intersection(set2)"
   ]
  },
  {
   "cell_type": "code",
   "execution_count": null,
   "id": "4da5e242",
   "metadata": {},
   "outputs": [],
   "source": [
    "set1 & set2"
   ]
  },
  {
   "cell_type": "code",
   "execution_count": null,
   "id": "b2ed77b1",
   "metadata": {},
   "outputs": [],
   "source": [
    "set1.difference(set2)"
   ]
  },
  {
   "cell_type": "code",
   "execution_count": null,
   "id": "030df84f",
   "metadata": {},
   "outputs": [],
   "source": [
    "set1 - set2"
   ]
  },
  {
   "cell_type": "code",
   "execution_count": null,
   "id": "792eb2a4",
   "metadata": {},
   "outputs": [],
   "source": [
    "set1.symmetric_difference(set2)"
   ]
  },
  {
   "cell_type": "code",
   "execution_count": null,
   "id": "5573031a",
   "metadata": {},
   "outputs": [],
   "source": [
    "set1 ^ set2"
   ]
  },
  {
   "cell_type": "markdown",
   "id": "3b000481",
   "metadata": {},
   "source": [
    "### 10. Functions"
   ]
  },
  {
   "cell_type": "markdown",
   "id": "3d5c7b05",
   "metadata": {},
   "source": [
    " - A function is a block of code that performs a specific task.\n",
    "\n",
    " - Dividing a complex problem into smaller chunks makes our program easy to understand and reuse."
   ]
  },
  {
   "cell_type": "markdown",
   "id": "1cb741e3",
   "metadata": {},
   "source": [
    "#### 10.1.Types of function\n",
    "There are two types of function in Python programming:\n",
    "\n",
    " - Standard library functions - These are built-in functions in Python that are available to use.\n",
    " - User-defined functions - We can create our own functions based on our requirements."
   ]
  },
  {
   "cell_type": "markdown",
   "id": "577b0f77",
   "metadata": {},
   "source": [
    "#### 10.2. Python Function Declaration\n",
    "The syntax to declare a function is:"
   ]
  },
  {
   "cell_type": "code",
   "execution_count": null,
   "id": "5868a2ba",
   "metadata": {},
   "outputs": [],
   "source": [
    "def function_name(arguments):\n",
    "    # function body \n",
    "\n",
    "    return "
   ]
  },
  {
   "cell_type": "markdown",
   "id": "5db21082",
   "metadata": {},
   "source": [
    "- def - keyword used to declare a function\n",
    "- function_name - any name given to the function\n",
    "- arguments - any value passed to function\n",
    "- return (optional) - returns value from a function"
   ]
  },
  {
   "cell_type": "code",
   "execution_count": null,
   "id": "bbaa173b",
   "metadata": {},
   "outputs": [],
   "source": [
    "# function with two arguments\n",
    "def add_numbers(num1, num2):\n",
    "    sum = num1 + num2\n",
    "    print('Sum: ',sum)  "
   ]
  },
  {
   "cell_type": "code",
   "execution_count": null,
   "id": "36d1e56d",
   "metadata": {},
   "outputs": [],
   "source": [
    "add_numbers(5, 10)"
   ]
  },
  {
   "cell_type": "code",
   "execution_count": null,
   "id": "9c98c838",
   "metadata": {},
   "outputs": [],
   "source": [
    "add_numbers(num1=5, num2=4)"
   ]
  },
  {
   "cell_type": "markdown",
   "id": "71074064",
   "metadata": {},
   "source": [
    "#### 10.3. The return Statement in Python\n",
    "A Python function may or may not return a value. If we want our function to return some value to a \n",
    "function call, we use the return statement. \n",
    "\n",
    "For example:"
   ]
  },
  {
   "cell_type": "code",
   "execution_count": null,
   "id": "2e9813b7",
   "metadata": {},
   "outputs": [],
   "source": [
    "def multiply_numbers(num1, num2):\n",
    "    return num1 * num2"
   ]
  },
  {
   "cell_type": "code",
   "execution_count": null,
   "id": "eaa6473c",
   "metadata": {},
   "outputs": [],
   "source": [
    "result = multiply_numbers(5, 10)\n",
    "print(result)"
   ]
  },
  {
   "cell_type": "markdown",
   "id": "d0b26661",
   "metadata": {},
   "source": [
    "#### 10.4. Python Built-in functions"
   ]
  },
  {
   "cell_type": "markdown",
   "id": "290b7f20",
   "metadata": {},
   "source": [
    "|1|2|3|4|\n",
    "| --- | --- | --- |---|\n",
    "|len() |range()|dir()|type()|\n",
    "|enumerate() |set()|dict()|tuple()|\n",
    "|min() |max()|sum()|sorted()|\n",
    "| ...|...| ...|...|"
   ]
  },
  {
   "cell_type": "markdown",
   "id": "20f4587a",
   "metadata": {},
   "source": [
    "#### 10.5.Python Library Functions\n",
    "In Python, standard library functions are the built-in functions that can be used directly in our program. For example,\n",
    "\n",
    " - sqrt() - returns the square root of a number\n",
    " - sin() - returns the sine of x (measured in radians).\n",
    "    \n",
    "These library functions are defined inside the module. And, to use them we must include the module inside our program.\n",
    "\n",
    "For example, sqrt() is defined inside the math module."
   ]
  },
  {
   "cell_type": "code",
   "execution_count": null,
   "id": "afd14cab",
   "metadata": {},
   "outputs": [],
   "source": [
    "import math"
   ]
  },
  {
   "cell_type": "code",
   "execution_count": null,
   "id": "ff12fed7",
   "metadata": {},
   "outputs": [],
   "source": [
    "dir(math)"
   ]
  },
  {
   "cell_type": "code",
   "execution_count": null,
   "id": "a14c2b97",
   "metadata": {},
   "outputs": [],
   "source": [
    "import math\n",
    "\n",
    "# sqrt computes the square root\n",
    "square_root = math.sqrt(4)\n",
    "print(f\"sqrt(4) = {square_root}\")\n",
    "\n",
    "sine = math.sin(30 * math.pi/180.0)\n",
    "print(f\"sin(30):{sine}\")"
   ]
  },
  {
   "cell_type": "markdown",
   "id": "c0da6725",
   "metadata": {},
   "source": [
    "#### 10.6. Python Function Arguments"
   ]
  },
  {
   "cell_type": "markdown",
   "id": "35f0a80d",
   "metadata": {},
   "source": [
    "##### 10.6.1. Function Argument with Default Values"
   ]
  },
  {
   "cell_type": "code",
   "execution_count": null,
   "id": "a888a7cf",
   "metadata": {},
   "outputs": [],
   "source": [
    "def add_numbers(a=7, b=8):\n",
    "    sum = a + b\n",
    "    print('Sum:', sum)\n",
    "\n",
    "\n",
    "# function call with two arguments\n",
    "add_numbers(2, 3)\n",
    "\n",
    "#  function call with one argument\n",
    "add_numbers(b=2)\n",
    "\n",
    "# function call with no arguments\n",
    "add_numbers()"
   ]
  },
  {
   "cell_type": "markdown",
   "id": "d46a86ca",
   "metadata": {},
   "source": [
    "##### 10.6.2. Function Argument with Default Type"
   ]
  },
  {
   "cell_type": "code",
   "execution_count": null,
   "id": "cc036e35",
   "metadata": {},
   "outputs": [],
   "source": [
    "def add_numbers(a:int=7, b:int=8):\n",
    "    sum = a + b\n",
    "    print('Sum:', sum)\n",
    "\n",
    "\n",
    "# function call with two arguments\n",
    "add_numbers(2, 3)"
   ]
  },
  {
   "cell_type": "markdown",
   "id": "8b2e1fd1",
   "metadata": {},
   "source": [
    "##### 10.6.3. Arbitrary Arguments(*args)\n",
    "Sometimes, we do not know in advance the number of arguments that will be passed into a function. To handle this kind of situation, we can use arbitrary arguments in Python.\n",
    "\n",
    "Arbitrary arguments allow us to pass a varying number of values during a function call.\n",
    "\n",
    "We use an asterisk (*) before the parameter name to denote this kind of argument. For example,"
   ]
  },
  {
   "cell_type": "code",
   "execution_count": null,
   "id": "3da73815",
   "metadata": {},
   "outputs": [],
   "source": [
    "def multiply_numbers(*nums):\n",
    "    mul = 1\n",
    "    for num in nums:\n",
    "        mul *= num\n",
    "    return mul"
   ]
  },
  {
   "cell_type": "code",
   "execution_count": null,
   "id": "f8d5b2a0",
   "metadata": {},
   "outputs": [],
   "source": [
    "multiply_numbers(2,3,4,5)"
   ]
  },
  {
   "cell_type": "code",
   "execution_count": null,
   "id": "24308d70",
   "metadata": {},
   "outputs": [],
   "source": [
    "multiply_numbers(2,3,4,5,6,7,8)"
   ]
  },
  {
   "cell_type": "markdown",
   "id": "c768439d",
   "metadata": {},
   "source": [
    "##### 10.6.4. Arbitrary Keyword Arguments, **kwargs\n",
    "If you do not know how many keyword arguments that will be passed into your function, add two asterisk: ** before the parameter name in the function definition.\n",
    "\n",
    "This way the function will receive a dictionary of arguments, and can access the items accordingly:"
   ]
  },
  {
   "cell_type": "code",
   "execution_count": null,
   "id": "08d8d467",
   "metadata": {},
   "outputs": [],
   "source": [
    "def print_user_data(first_name, last_name, **user_data):\n",
    "    print(\"first name:\", first_name)\n",
    "    print(\"last name:\", last_name)\n",
    "    \n",
    "    for key, value in user_data.items():\n",
    "        print(f\"{key}: {value}\")"
   ]
  },
  {
   "cell_type": "code",
   "execution_count": null,
   "id": "4fae6ac6",
   "metadata": {},
   "outputs": [],
   "source": [
    "user_data = {\"Born\":\"22 March 1966\",\n",
    "             \"Origin\":\"London, England\",\n",
    "             \"Occupation(s)\":\"Composer, pianist, producer\",    \n",
    "             \"Genres\":\"classical, ambient, minimalism, post-minimalism\"}\n",
    "print_user_data(\"Max\", \"Richter\", **user_data)"
   ]
  },
  {
   "cell_type": "markdown",
   "id": "fb82146b",
   "metadata": {},
   "source": [
    "#### 10.7. Python Recursion\n",
    "\n",
    "In Python, we know that a function can call other functions.\n",
    "It is even possible for the function to call itself. \n",
    "These types of construct are termed as recursive function"
   ]
  },
  {
   "cell_type": "code",
   "execution_count": null,
   "id": "7bb42ea4",
   "metadata": {},
   "outputs": [],
   "source": [
    "def factorial(x):\n",
    "    \"\"\"This is a recursive function\n",
    "    to find the factorial of an integer\"\"\"\n",
    "\n",
    "    if x == 1:\n",
    "        return 1\n",
    "    return (x * factorial(x-1))"
   ]
  },
  {
   "cell_type": "code",
   "execution_count": null,
   "id": "6a5032fe",
   "metadata": {},
   "outputs": [],
   "source": [
    "num = 3\n",
    "print(\"The factorial of\", num, \"is\", factorial(num))"
   ]
  },
  {
   "cell_type": "markdown",
   "id": "1cea78dc",
   "metadata": {},
   "source": [
    "<img src=\"imgs/python-factorial-function.jpg\" width=500>"
   ]
  },
  {
   "cell_type": "markdown",
   "id": "b6e29728",
   "metadata": {},
   "source": [
    "#### 10.8. Python Lambda/Anonymous Function\n",
    "\n",
    "In Python, a lambda function is a special type of function without the function name. For example:"
   ]
  },
  {
   "cell_type": "code",
   "execution_count": null,
   "id": "49587feb",
   "metadata": {},
   "outputs": [],
   "source": [
    "lambda : print('Hello World')"
   ]
  },
  {
   "cell_type": "markdown",
   "id": "041e7a0d",
   "metadata": {},
   "source": [
    "##### 10.8.1. Python lambda Function Declaration\n",
    "We use the lambda keyword instead of def to create a lambda function. Here's the syntax to declare the lambda function:\n",
    "\n",
    "lambda argument(s) : expression \n",
    "\n",
    "Here:\n",
    "\n",
    "- argument(s) - any value passed to the lambda function\n",
    "- expression - expression is executed and returned"
   ]
  },
  {
   "cell_type": "code",
   "execution_count": null,
   "id": "c9d43663",
   "metadata": {},
   "outputs": [],
   "source": [
    "greet = lambda : print('Hello World')"
   ]
  },
  {
   "cell_type": "code",
   "execution_count": null,
   "id": "2164d8ac",
   "metadata": {},
   "outputs": [],
   "source": [
    "greet()"
   ]
  },
  {
   "cell_type": "code",
   "execution_count": null,
   "id": "df9d9227",
   "metadata": {},
   "outputs": [],
   "source": [
    "mul = lambda a,b: a*b"
   ]
  },
  {
   "cell_type": "code",
   "execution_count": null,
   "id": "46792aa4",
   "metadata": {},
   "outputs": [],
   "source": [
    "mul(2,3)"
   ]
  },
  {
   "cell_type": "code",
   "execution_count": null,
   "id": "4500847f",
   "metadata": {},
   "outputs": [],
   "source": [
    "# example:"
   ]
  },
  {
   "cell_type": "code",
   "execution_count": null,
   "id": "f289eb5c",
   "metadata": {},
   "outputs": [],
   "source": [
    "weight_height = [[50, 175],\n",
    "                 [52, 162],\n",
    "                 [48, 163], \n",
    "                 [72, 172]]"
   ]
  },
  {
   "cell_type": "code",
   "execution_count": null,
   "id": "d68a7ff5",
   "metadata": {},
   "outputs": [],
   "source": [
    "sorted(weight_height)"
   ]
  },
  {
   "cell_type": "code",
   "execution_count": null,
   "id": "fc66e468",
   "metadata": {},
   "outputs": [],
   "source": [
    "sorted(weight_height, key=lambda v:v[1])"
   ]
  },
  {
   "cell_type": "markdown",
   "id": "8d935403",
   "metadata": {},
   "source": [
    "#### 10.9. map() function\n",
    "map() function returns a map object(which is an iterator) of the results after applying the given function to each item of a given iterable (list, tuple etc.) Syntax :\n",
    "\n",
    "map(func, iter)"
   ]
  },
  {
   "cell_type": "code",
   "execution_count": null,
   "id": "9f2ab2c6",
   "metadata": {},
   "outputs": [],
   "source": [
    "birth_years = [1998, 1996, 1995, 1985, 1988]"
   ]
  },
  {
   "cell_type": "code",
   "execution_count": null,
   "id": "6f3f24e5",
   "metadata": {},
   "outputs": [],
   "source": [
    "# Method 1\n",
    "ages = [2023 - by for by in birth_years]\n",
    "ages"
   ]
  },
  {
   "cell_type": "code",
   "execution_count": null,
   "id": "e248df5c",
   "metadata": {},
   "outputs": [],
   "source": [
    "# Method 2\n",
    "def get_age(birth_year):\n",
    "    return 2023 - birth_year\n",
    "\n",
    "list(map(get_age, birth_years))"
   ]
  },
  {
   "cell_type": "code",
   "execution_count": null,
   "id": "2d8c763c",
   "metadata": {},
   "outputs": [],
   "source": [
    "# Method 3\n",
    "def get_age(birth_year):\n",
    "    return 2023 - birth_year\n",
    "\n",
    "list(map(lambda birth_year:2023 - birth_year, birth_years))"
   ]
  },
  {
   "cell_type": "code",
   "execution_count": null,
   "id": "6e7119d0",
   "metadata": {},
   "outputs": [],
   "source": [
    "def print_fib(boundary):\n",
    "    \"\"\"\n",
    "    print the Fibonacci series to an arbitrary boundary\n",
    "    \n",
    "    parameters:\n",
    "    -----------\n",
    "    boundary: integer number\n",
    "    \n",
    "    return:\n",
    "    -----------\n",
    "    None\n",
    "    \"\"\"\n",
    "    a, b = 0, 1\n",
    "    \n",
    "    while a < boundary:\n",
    "        print(a, end=\" \")\n",
    "        a,b = b, a+b"
   ]
  },
  {
   "cell_type": "code",
   "execution_count": null,
   "id": "a690c83b",
   "metadata": {},
   "outputs": [],
   "source": [
    "print_fib(15)"
   ]
  },
  {
   "cell_type": "code",
   "execution_count": null,
   "id": "2c2a7278",
   "metadata": {},
   "outputs": [],
   "source": [
    "def print_fib_series(n):\n",
    "    \"\"\"\n",
    "    print the Fibonacci series from 0 to the n'th number\n",
    "    \n",
    "    parameters:\n",
    "    -----------\n",
    "    n: integer number\n",
    "    \n",
    "    return:\n",
    "    -----------\n",
    "    None\n",
    "    \"\"\"\n",
    "    a, b = 0, 1\n",
    "    counter = 0\n",
    "    while counter < n:\n",
    "        print(a, end=\" \")\n",
    "        counter += 1\n",
    "        a,b = b, a+b"
   ]
  },
  {
   "cell_type": "code",
   "execution_count": null,
   "id": "f442f14a",
   "metadata": {},
   "outputs": [],
   "source": [
    "print_fib_series(10)"
   ]
  },
  {
   "cell_type": "code",
   "execution_count": null,
   "id": "6415d7bf",
   "metadata": {},
   "outputs": [],
   "source": []
  }
 ],
 "metadata": {
  "kernelspec": {
   "display_name": "Python 3 (ipykernel)",
   "language": "python",
   "name": "python3"
  },
  "language_info": {
   "codemirror_mode": {
    "name": "ipython",
    "version": 3
   },
   "file_extension": ".py",
   "mimetype": "text/x-python",
   "name": "python",
   "nbconvert_exporter": "python",
   "pygments_lexer": "ipython3",
   "version": "3.10.9"
  }
 },
 "nbformat": 4,
 "nbformat_minor": 5
}
