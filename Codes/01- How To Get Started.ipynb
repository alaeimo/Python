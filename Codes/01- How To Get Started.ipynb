{
 "cells": [
  {
   "cell_type": "markdown",
   "id": "e783a564",
   "metadata": {},
   "source": [
    "## Python Setup and Usage"
   ]
  },
  {
   "cell_type": "markdown",
   "id": "5940f372",
   "metadata": {},
   "source": [
    "### 01. https://www.python.org/downloads/ \n",
    "<img src='imgs/python.jpg' width=\"500\">"
   ]
  },
  {
   "cell_type": "markdown",
   "id": "0db31785",
   "metadata": {},
   "source": [
    "### 2. Python Interpreter and IDLE\n",
    "<p>IDLE:Integrated Development and Learning Environment.</p>\n",
    "<img src='imgs/python-interpreter.jpg' width=\"500\">\n",
    "<img src='imgs/python-IDLE.jpg' width=\"500\">"
   ]
  },
  {
   "cell_type": "markdown",
   "id": "abc66bd8",
   "metadata": {},
   "source": [
    "### 3. Python Interactive Mode vs Script Mode"
   ]
  },
  {
   "cell_type": "markdown",
   "id": "c82f878d",
   "metadata": {},
   "source": [
    "### 4. IDEs \n",
    "<img src=\"imgs/python-ides.jpg\" width=\"500\">"
   ]
  },
  {
   "cell_type": "markdown",
   "id": "ad063992",
   "metadata": {},
   "source": [
    "#### 4.1. VSCode: https://code.visualstudio.com/Download"
   ]
  },
  {
   "cell_type": "markdown",
   "id": "184eebbc",
   "metadata": {},
   "source": [
    "##### 4.1.1 VSCode Python Extensions\n",
    "<img src='imgs/python-vscode-extensions.jpg' width=\"500\">"
   ]
  },
  {
   "cell_type": "markdown",
   "id": "2f918ac2",
   "metadata": {},
   "source": [
    "#### 4.1.2. Installing Jupyter Notebook"
   ]
  },
  {
   "cell_type": "code",
   "execution_count": 2,
   "id": "863ca1f5",
   "metadata": {},
   "outputs": [],
   "source": [
    "#pip install notebook"
   ]
  },
  {
   "cell_type": "markdown",
   "id": "11332c71",
   "metadata": {},
   "source": [
    "### 5. References"
   ]
  },
  {
   "cell_type": "markdown",
   "id": "42cc1253",
   "metadata": {},
   "source": [
    "#### 5.1. Websites"
   ]
  },
  {
   "cell_type": "markdown",
   "id": "cbc523ad",
   "metadata": {},
   "source": [
    "- <a href=\"https://docs.python.org/3/tutorial/index.html\">The Python Tutorial</a>\n",
    "- <a href=\"https://realpython.com/\">Real Python Tutorials</a>\n",
    "- <a href=\"https://www.practicepython.org/\">Practice Python</a>\n",
    "- <a href=\"https://pynative.com/python-exercises-with-solutions/\">Practice Python Exercises and Challenges with Solutionss</a>"
   ]
  },
  {
   "cell_type": "markdown",
   "id": "ddf26548",
   "metadata": {},
   "source": [
    "#### 5.2. Books"
   ]
  },
  {
   "cell_type": "markdown",
   "id": "a29c039f",
   "metadata": {},
   "source": [
    "<table >\n",
    "    <tr style=\"text-align:center\">\n",
    "        <th>\n",
    "           <a href=\"http://facweb.cs.depaul.edu/sjost/it211/documents/think-python-2nd.pdf\">Think Python</a> \n",
    "        </th>\n",
    "        <th>\n",
    "           <a href=\"https://blog.limoonad.com/wp-content/uploads/2021/11/Fluent-Python-Clear-Concise-and-Effective-Programming.pdf\">Fluent Python</a> \n",
    "        </th>\n",
    "        <th>\n",
    "            <a href=\"https://introcs.cs.princeton.edu/python/home/\">Introduction to Programming in Python</a> \n",
    "        </th>\n",
    "    </tr>\n",
    "    <tr>\n",
    "        <td>\n",
    "            <img src='imgs/Think-Python.jpg' width=\"250\">\n",
    "        </td>\n",
    "        <td>\n",
    "            <img src='imgs/Fluent-Python.jpg' width=\"250\">\n",
    "        </td>\n",
    "        <td>\n",
    "            <img src='imgs/Intro-Python.jpg' width=\"250\">\n",
    "        </td>\n",
    "    </tr>\n",
    "</table>"
   ]
  },
  {
   "cell_type": "code",
   "execution_count": null,
   "id": "8365b5f1",
   "metadata": {},
   "outputs": [],
   "source": []
  }
 ],
 "metadata": {
  "kernelspec": {
   "display_name": "Python 3 (ipykernel)",
   "language": "python",
   "name": "python3"
  },
  "language_info": {
   "codemirror_mode": {
    "name": "ipython",
    "version": 3
   },
   "file_extension": ".py",
   "mimetype": "text/x-python",
   "name": "python",
   "nbconvert_exporter": "python",
   "pygments_lexer": "ipython3",
   "version": "3.10.9"
  }
 },
 "nbformat": 4,
 "nbformat_minor": 5
}
