{
 "cells": [
  {
   "cell_type": "markdown",
   "id": "7609cf88",
   "metadata": {},
   "source": [
    "## OOP : Object Oriented Programming"
   ]
  },
  {
   "cell_type": "markdown",
   "id": "d1f58b2b",
   "metadata": {},
   "source": [
    "<img src=\"imgs/OOP.jpg\" width=500>"
   ]
  },
  {
   "cell_type": "markdown",
   "id": "7510f56b",
   "metadata": {},
   "source": [
    "### Object-oriented programming (**OOP**):\n",
    " - A programming paradigm\n",
    " - Structuring programs\n",
    " - Properties and Behaviors are bundled into individual objects\n",
    " - Modeling concrete, real-world things, like cars\n",
    " - Modeling relations between things, like companies and employees, students and teachers\n",
    " \n",
    "  Example:\n",
    "      - Object: person \n",
    "      - properties: name, age, and address \n",
    "      - behaviors: walking, talking, breathing, and running"
   ]
  },
  {
   "cell_type": "markdown",
   "id": "ebd5426f",
   "metadata": {},
   "source": [
    "### Procedural Programming\n",
    "- Another common programming paradigm is **Procedural Programming**, which structures a program like a recipe in that it provides a set of steps, in the form of functions and code blocks, that flow sequentially in order to complete a task."
   ]
  },
  {
   "cell_type": "markdown",
   "id": "4310fa6e",
   "metadata": {},
   "source": [
    "<table >\n",
    "    <tr style=\"text-align:center\">\n",
    "        <th>\n",
    "           Object-Oriented Programming\n",
    "        </th>\n",
    "        <th>\n",
    "           Procedural Programming\n",
    "        </th>\n",
    "    </tr>\n",
    "    <tr>\n",
    "        <td>\n",
    "            <img src='imgs/OOP-Example.jpg' width=\"500\">\n",
    "        </td>\n",
    "        <td>\n",
    "            <img src='imgs/Procedural-Example.jpg' width=\"500\">\n",
    "        </td>\n",
    "    </tr>\n",
    "</table>"
   ]
  },
  {
   "cell_type": "markdown",
   "id": "3874a419",
   "metadata": {},
   "source": [
    "## Define a Class in Python"
   ]
  },
  {
   "cell_type": "markdown",
   "id": "d95717a1",
   "metadata": {},
   "source": [
    "- Primitive data structures: \n",
    "    - tuples, strings, lists, ...\n",
    "    - Designed to represent simple pieces of information\n",
    "    \n",
    "    \n",
    "- What if you want to represent something more complex?"
   ]
  },
  {
   "cell_type": "code",
   "execution_count": null,
   "id": "3f0527cd",
   "metadata": {},
   "outputs": [],
   "source": [
    "#For example: employee: name, age, position, and the year they started working\n",
    "\n",
    "Maria = [\"Maria Kirk\",   34, \"Computer Engineer\",   2020]\n",
    "Alex =  [\"Alex\",         35, \"Electronic Engineer\", 2018]\n",
    "Robin = [\"Leonard Robin\",    \"AI Specialist\",       2021]"
   ]
  },
  {
   "cell_type": "markdown",
   "id": "ef149b40",
   "metadata": {},
   "source": [
    "#### Issues:\n",
    "- If you reference Maria[0] several lines away from where the list is declared, will you remember that the element with index 0 is the employee’s name?\n",
    "\n",
    "-  It can introduce errors if not every employee has the same number of elements in the list. (e.g. Robin)"
   ]
  },
  {
   "cell_type": "markdown",
   "id": "afd43084",
   "metadata": {},
   "source": [
    "### Class\n",
    "A **class** is a blueprint for creating objects. It defines the **attributes** and **methods** that objects of the class will have. You can create a class using the class keyword."
   ]
  },
  {
   "cell_type": "code",
   "execution_count": null,
   "id": "8b6b2f34",
   "metadata": {},
   "outputs": [],
   "source": [
    "class Employee:\n",
    "    pass"
   ]
  },
  {
   "cell_type": "markdown",
   "id": "404a5b5d",
   "metadata": {},
   "source": [
    "### Objects\n",
    "An object is an instance of a class. You create objects by calling the class as if it were a function."
   ]
  },
  {
   "cell_type": "code",
   "execution_count": null,
   "id": "a6a7e0b1",
   "metadata": {},
   "outputs": [],
   "source": [
    "employee1 = Employee()\n",
    "employee2 = Employee()"
   ]
  },
  {
   "cell_type": "code",
   "execution_count": null,
   "id": "36eb9038",
   "metadata": {},
   "outputs": [],
   "source": [
    "employee1, employee2"
   ]
  },
  {
   "cell_type": "markdown",
   "id": "5e5eb810",
   "metadata": {},
   "source": [
    "### Attributes \n",
    "**Attributes** are **variables** that hold data within a class or an object. They can be defined within the class using the **self** keyword."
   ]
  },
  {
   "cell_type": "code",
   "execution_count": null,
   "id": "743b4afd",
   "metadata": {},
   "outputs": [],
   "source": [
    "class Employee:\n",
    "    def __init__(self, name, age, position, start_year):\n",
    "        self.first_name = name\n",
    "        self.age = age\n",
    "        self.position = position\n",
    "        self.start_year = start_year"
   ]
  },
  {
   "cell_type": "markdown",
   "id": "94481dc1",
   "metadata": {},
   "source": [
    " <img src='imgs/Class-Form.jpg' width=\"250\">"
   ]
  },
  {
   "cell_type": "markdown",
   "id": "913d9c77",
   "metadata": {},
   "source": [
    " -  .**__init__**() is the class's **constructor** and sets the initial state of the object by assigning the values of the object’s properties\n",
    " - **self** represents the instance of class\n",
    " - **self.name = name** creates an attribute called name and assigns to it the value of the name parameter."
   ]
  },
  {
   "cell_type": "markdown",
   "id": "d2ff6a7e",
   "metadata": {},
   "source": [
    "### Instantiating"
   ]
  },
  {
   "cell_type": "code",
   "execution_count": null,
   "id": "19aab280",
   "metadata": {},
   "outputs": [],
   "source": [
    "Maria = Employee(name=\"Maria Kirk\", age=34, position=\"Computer Engineer\",start_year=2020)\n",
    "\n",
    "Alex =  Employee(name=\"Alex\", age=35, position=\"Electronic Engineer\", start_year=2018)\n",
    "\n",
    "Robin = Employee(name=\"Leonard Robin\", age=None, position=\"AI Specialist\",start_year=2021)"
   ]
  },
  {
   "cell_type": "code",
   "execution_count": null,
   "id": "bc3f0841",
   "metadata": {},
   "outputs": [],
   "source": [
    "print(Maria.first_name)\n",
    "print(Maria.age)\n",
    "print(Alex.position)\n",
    "print(Robin.age)"
   ]
  },
  {
   "cell_type": "markdown",
   "id": "3ca63771",
   "metadata": {},
   "source": [
    "### Class attributes and Instance attributes"
   ]
  },
  {
   "cell_type": "code",
   "execution_count": null,
   "id": "b4c9c3e5",
   "metadata": {},
   "outputs": [],
   "source": [
    "class Employee:\n",
    "    \n",
    "    # Class attribute\n",
    "    company = \"Google\"\n",
    "    \n",
    "    def __init__(self, name, age, position, start_year):\n",
    "        # Instance attributes\n",
    "        self.name = name\n",
    "        self.age = age\n",
    "        self.position = position\n",
    "        self.start_year = start_year"
   ]
  },
  {
   "cell_type": "markdown",
   "id": "d8601370",
   "metadata": {},
   "source": [
    " - Attributes created in .__init__() are called **Instance Attributes**.\n",
    " - **Class Attributes** are attributes that have the same value for all class instances."
   ]
  },
  {
   "cell_type": "code",
   "execution_count": null,
   "id": "4a376d69",
   "metadata": {},
   "outputs": [],
   "source": [
    "Maria = Employee(name=\"Maria Kirk\", age=34, position=\"Computer Engineer\",start_year=2020)\n",
    "Alex =  Employee(name=\"Alex\", age=35, position=\"Electronic Engineer\", start_year=2018)"
   ]
  },
  {
   "cell_type": "code",
   "execution_count": null,
   "id": "54f0b005",
   "metadata": {},
   "outputs": [],
   "source": [
    "Maria.company, Alex.company"
   ]
  },
  {
   "cell_type": "markdown",
   "id": "5fa5bec8",
   "metadata": {},
   "source": [
    "### Methods\n",
    "Methods are **functions** that belong to a class and can operate on the object's data. They are defined within the class using the **def** keyword.\n"
   ]
  },
  {
   "cell_type": "code",
   "execution_count": null,
   "id": "5c070fe6",
   "metadata": {},
   "outputs": [],
   "source": [
    "class Patient:\n",
    "    def __init__(self, name, age, gender, disease):\n",
    "        self.name = name\n",
    "        self.age = age\n",
    "        self.gender = gender\n",
    "        self.disease = disease\n",
    "\n",
    "    def get_disease(self):\n",
    "        return self.disease\n",
    "\n",
    "    def get_info(self):\n",
    "        return f\"Name: {self.name}, Age: {self.age}, Gender: {self.gender}\"\n"
   ]
  },
  {
   "cell_type": "code",
   "execution_count": null,
   "id": "cb6b5e95",
   "metadata": {},
   "outputs": [],
   "source": [
    "patient = Patient(\"John\", 28, \"Male\", \"Diabetes\")"
   ]
  },
  {
   "cell_type": "code",
   "execution_count": null,
   "id": "427d8062",
   "metadata": {},
   "outputs": [],
   "source": [
    "patient.get_disease()"
   ]
  },
  {
   "cell_type": "code",
   "execution_count": null,
   "id": "4019b790",
   "metadata": {},
   "outputs": [],
   "source": [
    "patient.get_info()"
   ]
  },
  {
   "cell_type": "markdown",
   "id": "fe42cefb",
   "metadata": {},
   "source": [
    "## Principles of Object-Oriented Programming (OOP)"
   ]
  },
  {
   "cell_type": "markdown",
   "id": "239a54bf",
   "metadata": {},
   "source": [
    "### 1-Inheritance:\n",
    "- It allows the creation of new classes based on existing classes\n",
    "<img src=\"imgs/Inheritance.jpg\" width=500>"
   ]
  },
  {
   "cell_type": "code",
   "execution_count": null,
   "id": "e837a41a",
   "metadata": {},
   "outputs": [],
   "source": [
    "class Person:\n",
    "    \n",
    "    def __init__(self, name, age, gender):\n",
    "        self.name = name\n",
    "        self.age = age\n",
    "        self.gender = gender\n",
    "    \n",
    "    def get_name(self):\n",
    "        return self.name\n",
    "\n",
    "    def get_age(self):\n",
    "        return self.age\n",
    "\n",
    "    def get_gender(self):\n",
    "        return self.gender"
   ]
  },
  {
   "cell_type": "code",
   "execution_count": null,
   "id": "521a16e0",
   "metadata": {},
   "outputs": [],
   "source": [
    "class Patient(Person):\n",
    "    \n",
    "    def __init__(self, name, age, gender, condition):\n",
    "        super().__init__(name, age, gender)\n",
    "        self.condition = condition\n",
    "\n",
    "    def get_condition(self):\n",
    "        return self.condition"
   ]
  },
  {
   "cell_type": "code",
   "execution_count": null,
   "id": "c2d1b882",
   "metadata": {},
   "outputs": [],
   "source": [
    "patient = Patient(\"Max\", 19, \"Male\", \"Flu\")"
   ]
  },
  {
   "cell_type": "code",
   "execution_count": null,
   "id": "30b5ad7d",
   "metadata": {},
   "outputs": [],
   "source": [
    "patient."
   ]
  },
  {
   "cell_type": "code",
   "execution_count": null,
   "id": "b4493f6f",
   "metadata": {},
   "outputs": [],
   "source": [
    "isinstance(patient, Patient)"
   ]
  },
  {
   "cell_type": "markdown",
   "id": "cc0345d3",
   "metadata": {},
   "source": [
    "In this example, the **Patient** class **inherits** from the **Person** class, allowing it to inherit the attributes and methods from the base class. This promotes code **reuse** and **establishes a hierarchical relationship** between the two classes."
   ]
  },
  {
   "cell_type": "markdown",
   "id": "7de8b6d1",
   "metadata": {},
   "source": [
    "### 2-Encapsulation:\n",
    "\n",
    "\n",
    "- Combining data and methods in a class, \n",
    "- Hiding the details\n",
    "- Providing a clear interface for interacting with the object. \n",
    "- Improving code organization, security, and reusability.\n",
    "\n",
    "<img src=\"imgs/Encapsulation.jpg\" width=700>"
   ]
  },
  {
   "cell_type": "code",
   "execution_count": null,
   "id": "d07f41c0",
   "metadata": {},
   "outputs": [],
   "source": [
    "class BankAccount:\n",
    "    def __init__(self, account_number, balance):\n",
    "        self._account_number = account_number\n",
    "        self._balance = balance\n",
    "\n",
    "    def deposit(self, amount):\n",
    "        if amount > 0:\n",
    "            self._balance += amount\n",
    "            print(f\"Deposited {amount} into account {self._account_number}.\")\n",
    "        else:\n",
    "            print(\"Invalid deposit amount.\")\n",
    "\n",
    "    def withdraw(self, amount):\n",
    "        if amount > 0 and amount <= self._balance:\n",
    "            self._balance -= amount\n",
    "            print(f\"Withdrew {amount} from account {self._account_number}.\")\n",
    "        else:\n",
    "            print(\"Insufficient funds or invalid withdrawal amount.\")\n",
    "\n",
    "    def get_balance(self):\n",
    "        return self._balance"
   ]
  },
  {
   "cell_type": "code",
   "execution_count": null,
   "id": "c245a86b",
   "metadata": {},
   "outputs": [],
   "source": [
    "account = BankAccount(account_number=56986598, balance=150_000_000)"
   ]
  },
  {
   "cell_type": "code",
   "execution_count": null,
   "id": "4881a965",
   "metadata": {},
   "outputs": [],
   "source": [
    "account.deposit(5_000_000)"
   ]
  },
  {
   "cell_type": "code",
   "execution_count": null,
   "id": "c0cd5dca",
   "metadata": {},
   "outputs": [],
   "source": [
    "account.get_balance()"
   ]
  },
  {
   "cell_type": "code",
   "execution_count": null,
   "id": "c4ab47f2",
   "metadata": {},
   "outputs": [],
   "source": [
    "account.withdraw(6_000_000)"
   ]
  },
  {
   "cell_type": "code",
   "execution_count": null,
   "id": "a4d950a5",
   "metadata": {},
   "outputs": [],
   "source": [
    "account.get_balance()"
   ]
  },
  {
   "cell_type": "code",
   "execution_count": null,
   "id": "037af004",
   "metadata": {},
   "outputs": [],
   "source": [
    "account._balance"
   ]
  },
  {
   "cell_type": "markdown",
   "id": "77b0c130",
   "metadata": {},
   "source": [
    "#### Protected and Private Attributes"
   ]
  },
  {
   "cell_type": "markdown",
   "id": "ba2b4287",
   "metadata": {},
   "source": [
    "1. **Protecting** and **Hiding** the internal implementation details\n",
    "2. Ensuring the **Correctness** and **Validity** of data by controlling access and modification through protected and private attributes\n",
    "3. **Limiting Access** to only what is necessary for external code.\n",
    "4. **Flexibility** and allowing the codebase to change without affecting the external usage"
   ]
  },
  {
   "cell_type": "code",
   "execution_count": null,
   "id": "b2e5c573",
   "metadata": {},
   "outputs": [],
   "source": [
    "class Employee:\n",
    "    def __init__(self, name, salary):\n",
    "        self._name = name  # protected attribute\n",
    "        self.__salary = salary  # private attribute\n",
    "\n",
    "    def get_name(self):\n",
    "        return self._name\n",
    "\n",
    "    def get_salary(self):\n",
    "        return self.__salary\n",
    "\n",
    "    def set_salary(self, new_salary):\n",
    "        if new_salary > 0:\n",
    "            self.__salary = new_salary"
   ]
  },
  {
   "cell_type": "code",
   "execution_count": null,
   "id": "ff896dca",
   "metadata": {},
   "outputs": [],
   "source": [
    "employee = Employee(\"John Doe\", 5000)\n",
    "print(employee.get_name())  # Output: John Doe\n",
    "print(employee.get_salary())  # Output: 5000"
   ]
  },
  {
   "cell_type": "code",
   "execution_count": null,
   "id": "6687fdf3",
   "metadata": {},
   "outputs": [],
   "source": [
    "# Modifying the protected attribute (although it's against convention)\n",
    "employee._name = \"Jane Doe\"\n",
    "print(employee.get_name())  # Output: Jane Doe"
   ]
  },
  {
   "cell_type": "code",
   "execution_count": null,
   "id": "a32779bb",
   "metadata": {},
   "outputs": [],
   "source": [
    "# Attempting to access the private attribute directly\n",
    "print(employee.__salary)  # Results in an AttributeError"
   ]
  },
  {
   "cell_type": "code",
   "execution_count": null,
   "id": "f5829f6d",
   "metadata": {},
   "outputs": [],
   "source": [
    "# Updating the private attribute using the setter method\n",
    "employee.set_salary(6000)\n",
    "print(employee.get_salary())  # Output: 6000"
   ]
  },
  {
   "cell_type": "markdown",
   "id": "675b07df",
   "metadata": {},
   "source": [
    "### 3-Polymorphism\n",
    "\n",
    " - It enables you to define methods in the base class that can be **overridden** in derived classes, providing different implementations.\n",
    "<img src=\"imgs/Polymorphism.jpg\" width=800>"
   ]
  },
  {
   "cell_type": "code",
   "execution_count": null,
   "id": "c912fa4f",
   "metadata": {},
   "outputs": [],
   "source": [
    "class Animal:\n",
    "    def __init__(self, name):\n",
    "        self.name = name\n",
    "\n",
    "    def make_sound(self):\n",
    "        pass\n",
    "\n",
    "class Dog(Animal):\n",
    "    def make_sound(self):\n",
    "        return \"Woof!\"\n",
    "\n",
    "class Cat(Animal):\n",
    "    def make_sound(self):\n",
    "        return \"Meow!\""
   ]
  },
  {
   "cell_type": "code",
   "execution_count": null,
   "id": "a9200cb9",
   "metadata": {},
   "outputs": [],
   "source": [
    "# Polymorphism in action\n",
    "animals = [Dog(\"Buddy\"), Cat(\"Whiskers\")]\n",
    "\n",
    "for animal in animals:\n",
    "    sound = animal.make_sound()\n",
    "    print(f\"{animal.name} says: {sound}\")"
   ]
  },
  {
   "cell_type": "code",
   "execution_count": null,
   "id": "c2e49c86",
   "metadata": {},
   "outputs": [],
   "source": []
  }
 ],
 "metadata": {
  "kernelspec": {
   "display_name": "Python 3 (ipykernel)",
   "language": "python",
   "name": "python3"
  },
  "language_info": {
   "codemirror_mode": {
    "name": "ipython",
    "version": 3
   },
   "file_extension": ".py",
   "mimetype": "text/x-python",
   "name": "python",
   "nbconvert_exporter": "python",
   "pygments_lexer": "ipython3",
   "version": "3.10.9"
  }
 },
 "nbformat": 4,
 "nbformat_minor": 5
}
